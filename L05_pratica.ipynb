{
  "nbformat": 4,
  "nbformat_minor": 0,
  "metadata": {
    "colab": {
      "name": "L05_pratica.ipynb",
      "provenance": []
    },
    "kernelspec": {
      "name": "python3",
      "display_name": "Python 3"
    },
    "language_info": {
      "name": "python"
    }
  },
  "cells": [
    {
      "cell_type": "markdown",
      "metadata": {
        "id": "DMM9idqPvMAn"
      },
      "source": [
        "##Prática 5\n",
        "3 - Tomando como base arquivo L05_manual-pipeline.ipynb montem um pipeline de pré-processamento de dados para realizar a classificação da base de dados \"breast_cancer\".\n",
        "\n",
        "--- essa base de dados \"breast cancer\" está disponível na própria biblioteca do scikit. Também é fácil achar essa base na internet, em outros formatos (txt, csv, etc), se seja da preferência.\n",
        "\n",
        "--- esse pipeline deve conter\n",
        "\n",
        "3.1 - abertura dos dados\n",
        "\n",
        "3.2 - pré-processamento para limpeza dos dados (se precisar)(conversão de características, conversão de rótulos/classes, imputação de valores faltantes, etc)\n",
        "\n",
        "3.3 - divisão em treinamento e teste\n",
        "\n",
        "3.4 - normalização dos dados\n",
        "\n",
        "3.5 - classificação com knn\n",
        "\n",
        "3.6 - avaliação de acurácia\n",
        "\n",
        "4 - a solução deve usar as bibliotecas pandas, numpy e scikit-learn\n",
        "\n",
        "5 - Para cada exercício, fazer um pequeno comentário em texto do que o comando realiza, utilizando linguagem markdown (ambiente colab)"
      ]
    },
    {
      "cell_type": "markdown",
      "metadata": {
        "id": "Z0GBlP1Y5o7J"
      },
      "source": [
        "**Testando Exemplos**"
      ]
    },
    {
      "cell_type": "markdown",
      "metadata": {
        "id": "OG9ruQAZKDwN"
      },
      "source": [
        "* Importando biblioteca pandas\n",
        "* Acessando o drive\n",
        "* Lendo o arquivo *iris.csv* com o método **read_csv** \n",
        "* Mostrando as primeiras 5 linhas da tabela com o método **head**\n",
        "*  Utiliza o método **type** para mostrar o tipo\n",
        "* Utiliza o método **shape** para descobrir qual o formato da tabela"
      ]
    },
    {
      "cell_type": "code",
      "metadata": {
        "colab": {
          "base_uri": "https://localhost:8080/",
          "height": 220
        },
        "id": "PmUnyBv47Td-",
        "outputId": "6df71dfa-2369-4bb2-b9f4-e6d09a8d05aa"
      },
      "source": [
        "import pandas as pd\n",
        "\n",
        "from google.colab import drive\n",
        "drive.mount('/content/drive')\n",
        "\n",
        "\n",
        "df = pd.read_csv('/content/drive/My Drive/Google Drive/iris.csv')\n",
        "df.head()"
      ],
      "execution_count": null,
      "outputs": [
        {
          "output_type": "stream",
          "text": [
            "Mounted at /content/drive\n"
          ],
          "name": "stdout"
        },
        {
          "output_type": "execute_result",
          "data": {
            "text/html": [
              "<div>\n",
              "<style scoped>\n",
              "    .dataframe tbody tr th:only-of-type {\n",
              "        vertical-align: middle;\n",
              "    }\n",
              "\n",
              "    .dataframe tbody tr th {\n",
              "        vertical-align: top;\n",
              "    }\n",
              "\n",
              "    .dataframe thead th {\n",
              "        text-align: right;\n",
              "    }\n",
              "</style>\n",
              "<table border=\"1\" class=\"dataframe\">\n",
              "  <thead>\n",
              "    <tr style=\"text-align: right;\">\n",
              "      <th></th>\n",
              "      <th>Id</th>\n",
              "      <th>SepalLength[cm]</th>\n",
              "      <th>SepalWidth[cm]</th>\n",
              "      <th>PetalLength[cm]</th>\n",
              "      <th>PetalWidth[cm]</th>\n",
              "      <th>Species</th>\n",
              "    </tr>\n",
              "  </thead>\n",
              "  <tbody>\n",
              "    <tr>\n",
              "      <th>0</th>\n",
              "      <td>1</td>\n",
              "      <td>5.1</td>\n",
              "      <td>3.5</td>\n",
              "      <td>1.4</td>\n",
              "      <td>0.2</td>\n",
              "      <td>Iris-setosa</td>\n",
              "    </tr>\n",
              "    <tr>\n",
              "      <th>1</th>\n",
              "      <td>2</td>\n",
              "      <td>4.9</td>\n",
              "      <td>3.0</td>\n",
              "      <td>1.4</td>\n",
              "      <td>0.2</td>\n",
              "      <td>Iris-setosa</td>\n",
              "    </tr>\n",
              "    <tr>\n",
              "      <th>2</th>\n",
              "      <td>3</td>\n",
              "      <td>4.7</td>\n",
              "      <td>3.2</td>\n",
              "      <td>1.3</td>\n",
              "      <td>0.2</td>\n",
              "      <td>Iris-setosa</td>\n",
              "    </tr>\n",
              "    <tr>\n",
              "      <th>3</th>\n",
              "      <td>4</td>\n",
              "      <td>4.6</td>\n",
              "      <td>3.1</td>\n",
              "      <td>1.5</td>\n",
              "      <td>0.2</td>\n",
              "      <td>Iris-setosa</td>\n",
              "    </tr>\n",
              "    <tr>\n",
              "      <th>4</th>\n",
              "      <td>5</td>\n",
              "      <td>5.0</td>\n",
              "      <td>3.6</td>\n",
              "      <td>1.4</td>\n",
              "      <td>0.2</td>\n",
              "      <td>Iris-setosa</td>\n",
              "    </tr>\n",
              "  </tbody>\n",
              "</table>\n",
              "</div>"
            ],
            "text/plain": [
              "   Id  SepalLength[cm]  ...  PetalWidth[cm]      Species\n",
              "0   1              5.1  ...             0.2  Iris-setosa\n",
              "1   2              4.9  ...             0.2  Iris-setosa\n",
              "2   3              4.7  ...             0.2  Iris-setosa\n",
              "3   4              4.6  ...             0.2  Iris-setosa\n",
              "4   5              5.0  ...             0.2  Iris-setosa\n",
              "\n",
              "[5 rows x 6 columns]"
            ]
          },
          "metadata": {
            "tags": []
          },
          "execution_count": 94
        }
      ]
    },
    {
      "cell_type": "code",
      "metadata": {
        "colab": {
          "base_uri": "https://localhost:8080/"
        },
        "id": "sHSXFbz4LOPg",
        "outputId": "b7536d8f-1470-475c-9f2b-12a433b71e97"
      },
      "source": [
        "type(df)"
      ],
      "execution_count": null,
      "outputs": [
        {
          "output_type": "execute_result",
          "data": {
            "text/plain": [
              "pandas.core.frame.DataFrame"
            ]
          },
          "metadata": {
            "tags": []
          },
          "execution_count": 7
        }
      ]
    },
    {
      "cell_type": "code",
      "metadata": {
        "colab": {
          "base_uri": "https://localhost:8080/"
        },
        "id": "WDKQ_vEqLdwU",
        "outputId": "6e499c6d-be82-4e80-c23c-074e6f4aa6ff"
      },
      "source": [
        "df.shape"
      ],
      "execution_count": null,
      "outputs": [
        {
          "output_type": "execute_result",
          "data": {
            "text/plain": [
              "(150, 6)"
            ]
          },
          "metadata": {
            "tags": []
          },
          "execution_count": 8
        }
      ]
    },
    {
      "cell_type": "markdown",
      "metadata": {
        "id": "Xe9gJXZ6LujH"
      },
      "source": [
        "**Basic Data Handling**\n"
      ]
    },
    {
      "cell_type": "markdown",
      "metadata": {
        "id": "E0Um6z5yNNFm"
      },
      "source": [
        "* Utiliza método **apply** para aplicar a função lambda\n",
        "* Utiliza uma **Função lambda** para  substituir por 0 onde Species for igual a Iris-setosa e por 1 o resto \n",
        "* Utiliza o método **tail** para ver as ultimas 5 linhas da tabela\n",
        "* Utiliza o método **head** para ver as primeiras 5 linhas da tabela"
      ]
    },
    {
      "cell_type": "code",
      "metadata": {
        "colab": {
          "base_uri": "https://localhost:8080/",
          "height": 203
        },
        "id": "1MGf6KNkLy2y",
        "outputId": "39a486e2-0dae-4262-90cf-de2082b99a9c"
      },
      "source": [
        "df['Species'] = df['Species'].apply(lambda x: 0 if x=='Iris-setosa' else x)\n",
        "df.tail()"
      ],
      "execution_count": null,
      "outputs": [
        {
          "output_type": "execute_result",
          "data": {
            "text/html": [
              "<div>\n",
              "<style scoped>\n",
              "    .dataframe tbody tr th:only-of-type {\n",
              "        vertical-align: middle;\n",
              "    }\n",
              "\n",
              "    .dataframe tbody tr th {\n",
              "        vertical-align: top;\n",
              "    }\n",
              "\n",
              "    .dataframe thead th {\n",
              "        text-align: right;\n",
              "    }\n",
              "</style>\n",
              "<table border=\"1\" class=\"dataframe\">\n",
              "  <thead>\n",
              "    <tr style=\"text-align: right;\">\n",
              "      <th></th>\n",
              "      <th>Id</th>\n",
              "      <th>SepalLength[cm]</th>\n",
              "      <th>SepalWidth[cm]</th>\n",
              "      <th>PetalLength[cm]</th>\n",
              "      <th>PetalWidth[cm]</th>\n",
              "      <th>Species</th>\n",
              "    </tr>\n",
              "  </thead>\n",
              "  <tbody>\n",
              "    <tr>\n",
              "      <th>145</th>\n",
              "      <td>146</td>\n",
              "      <td>6.7</td>\n",
              "      <td>3.0</td>\n",
              "      <td>5.2</td>\n",
              "      <td>2.3</td>\n",
              "      <td>Iris-virginica</td>\n",
              "    </tr>\n",
              "    <tr>\n",
              "      <th>146</th>\n",
              "      <td>147</td>\n",
              "      <td>6.3</td>\n",
              "      <td>2.5</td>\n",
              "      <td>5.0</td>\n",
              "      <td>1.9</td>\n",
              "      <td>Iris-virginica</td>\n",
              "    </tr>\n",
              "    <tr>\n",
              "      <th>147</th>\n",
              "      <td>148</td>\n",
              "      <td>6.5</td>\n",
              "      <td>3.0</td>\n",
              "      <td>5.2</td>\n",
              "      <td>2.0</td>\n",
              "      <td>Iris-virginica</td>\n",
              "    </tr>\n",
              "    <tr>\n",
              "      <th>148</th>\n",
              "      <td>149</td>\n",
              "      <td>6.2</td>\n",
              "      <td>3.4</td>\n",
              "      <td>5.4</td>\n",
              "      <td>2.3</td>\n",
              "      <td>Iris-virginica</td>\n",
              "    </tr>\n",
              "    <tr>\n",
              "      <th>149</th>\n",
              "      <td>150</td>\n",
              "      <td>5.9</td>\n",
              "      <td>3.0</td>\n",
              "      <td>5.1</td>\n",
              "      <td>1.8</td>\n",
              "      <td>Iris-virginica</td>\n",
              "    </tr>\n",
              "  </tbody>\n",
              "</table>\n",
              "</div>"
            ],
            "text/plain": [
              "      Id  SepalLength[cm]  ...  PetalWidth[cm]         Species\n",
              "145  146              6.7  ...             2.3  Iris-virginica\n",
              "146  147              6.3  ...             1.9  Iris-virginica\n",
              "147  148              6.5  ...             2.0  Iris-virginica\n",
              "148  149              6.2  ...             2.3  Iris-virginica\n",
              "149  150              5.9  ...             1.8  Iris-virginica\n",
              "\n",
              "[5 rows x 6 columns]"
            ]
          },
          "metadata": {
            "tags": []
          },
          "execution_count": 95
        }
      ]
    },
    {
      "cell_type": "code",
      "metadata": {
        "colab": {
          "base_uri": "https://localhost:8080/",
          "height": 203
        },
        "id": "0kXCUaMxPwO3",
        "outputId": "74dc33c3-ca77-475c-c5a2-1458360269aa"
      },
      "source": [
        "df.head()"
      ],
      "execution_count": null,
      "outputs": [
        {
          "output_type": "execute_result",
          "data": {
            "text/html": [
              "<div>\n",
              "<style scoped>\n",
              "    .dataframe tbody tr th:only-of-type {\n",
              "        vertical-align: middle;\n",
              "    }\n",
              "\n",
              "    .dataframe tbody tr th {\n",
              "        vertical-align: top;\n",
              "    }\n",
              "\n",
              "    .dataframe thead th {\n",
              "        text-align: right;\n",
              "    }\n",
              "</style>\n",
              "<table border=\"1\" class=\"dataframe\">\n",
              "  <thead>\n",
              "    <tr style=\"text-align: right;\">\n",
              "      <th></th>\n",
              "      <th>Id</th>\n",
              "      <th>SepalLength[cm]</th>\n",
              "      <th>SepalWidth[cm]</th>\n",
              "      <th>PetalLength[cm]</th>\n",
              "      <th>PetalWidth[cm]</th>\n",
              "      <th>Species</th>\n",
              "    </tr>\n",
              "  </thead>\n",
              "  <tbody>\n",
              "    <tr>\n",
              "      <th>0</th>\n",
              "      <td>1</td>\n",
              "      <td>5.1</td>\n",
              "      <td>3.5</td>\n",
              "      <td>1.4</td>\n",
              "      <td>0.2</td>\n",
              "      <td>0</td>\n",
              "    </tr>\n",
              "    <tr>\n",
              "      <th>1</th>\n",
              "      <td>2</td>\n",
              "      <td>4.9</td>\n",
              "      <td>3.0</td>\n",
              "      <td>1.4</td>\n",
              "      <td>0.2</td>\n",
              "      <td>0</td>\n",
              "    </tr>\n",
              "    <tr>\n",
              "      <th>2</th>\n",
              "      <td>3</td>\n",
              "      <td>4.7</td>\n",
              "      <td>3.2</td>\n",
              "      <td>1.3</td>\n",
              "      <td>0.2</td>\n",
              "      <td>0</td>\n",
              "    </tr>\n",
              "    <tr>\n",
              "      <th>3</th>\n",
              "      <td>4</td>\n",
              "      <td>4.6</td>\n",
              "      <td>3.1</td>\n",
              "      <td>1.5</td>\n",
              "      <td>0.2</td>\n",
              "      <td>0</td>\n",
              "    </tr>\n",
              "    <tr>\n",
              "      <th>4</th>\n",
              "      <td>5</td>\n",
              "      <td>5.0</td>\n",
              "      <td>3.6</td>\n",
              "      <td>1.4</td>\n",
              "      <td>0.2</td>\n",
              "      <td>0</td>\n",
              "    </tr>\n",
              "  </tbody>\n",
              "</table>\n",
              "</div>"
            ],
            "text/plain": [
              "   Id  SepalLength[cm]  SepalWidth[cm]  PetalLength[cm]  PetalWidth[cm] Species\n",
              "0   1              5.1             3.5              1.4             0.2       0\n",
              "1   2              4.9             3.0              1.4             0.2       0\n",
              "2   3              4.7             3.2              1.3             0.2       0\n",
              "3   4              4.6             3.1              1.5             0.2       0\n",
              "4   5              5.0             3.6              1.4             0.2       0"
            ]
          },
          "metadata": {
            "tags": []
          },
          "execution_count": 12
        }
      ]
    },
    {
      "cell_type": "markdown",
      "metadata": {
        "id": "SuHzEOsxOF3P"
      },
      "source": [
        "Função regular que concatena o numero '123' a frase 'Hello World'"
      ]
    },
    {
      "cell_type": "code",
      "metadata": {
        "colab": {
          "base_uri": "https://localhost:8080/",
          "height": 35
        },
        "id": "8vdUDDr5ORoL",
        "outputId": "cd7c8af0-d7ce-4923-b5ed-ead76b87fcb7"
      },
      "source": [
        "def some_func(x):\n",
        "    return 'Hello World ' + str(x)\n",
        "\n",
        "some_func(123)"
      ],
      "execution_count": null,
      "outputs": [
        {
          "output_type": "execute_result",
          "data": {
            "application/vnd.google.colaboratory.intrinsic+json": {
              "type": "string"
            },
            "text/plain": [
              "'Hello World 123'"
            ]
          },
          "metadata": {
            "tags": []
          },
          "execution_count": 10
        }
      ]
    },
    {
      "cell_type": "markdown",
      "metadata": {
        "id": "sZ9gFpvrOei2"
      },
      "source": [
        "Função regular anterior com o mesmo objetivo, mas escrita utilizando **Função Lambda**"
      ]
    },
    {
      "cell_type": "code",
      "metadata": {
        "colab": {
          "base_uri": "https://localhost:8080/",
          "height": 35
        },
        "id": "G192H1dXO1BK",
        "outputId": "15c4f27f-5835-4c6e-98d9-33dde054c6e3"
      },
      "source": [
        "f = lambda x: 'Hello World ' + str(x)\n",
        "f(123)"
      ],
      "execution_count": null,
      "outputs": [
        {
          "output_type": "execute_result",
          "data": {
            "application/vnd.google.colaboratory.intrinsic+json": {
              "type": "string"
            },
            "text/plain": [
              "'Hello World 123'"
            ]
          },
          "metadata": {
            "tags": []
          },
          "execution_count": 11
        }
      ]
    },
    {
      "cell_type": "markdown",
      "metadata": {
        "id": "J4ySWdrNQHOw"
      },
      "source": [
        "* Utilizando método **map** para substituir Iris-setosa por , Iris-versicolor por  e Iris-virginica por 2"
      ]
    },
    {
      "cell_type": "code",
      "metadata": {
        "colab": {
          "base_uri": "https://localhost:8080/",
          "height": 203
        },
        "id": "evnrsC9hQJ-7",
        "outputId": "8fab7215-b83a-4d41-d591-39110bc680a1"
      },
      "source": [
        "d = {'Iris-setosa': 0,\n",
        "     'Iris-versicolor': 1,\n",
        "     'Iris-virginica': 2}\n",
        "\n",
        "df = pd.read_csv('/content/drive/My Drive/Google Drive/iris.csv')\n",
        "df['Species'] = df['Species'].map(d)\n",
        "df.head()"
      ],
      "execution_count": null,
      "outputs": [
        {
          "output_type": "execute_result",
          "data": {
            "text/html": [
              "<div>\n",
              "<style scoped>\n",
              "    .dataframe tbody tr th:only-of-type {\n",
              "        vertical-align: middle;\n",
              "    }\n",
              "\n",
              "    .dataframe tbody tr th {\n",
              "        vertical-align: top;\n",
              "    }\n",
              "\n",
              "    .dataframe thead th {\n",
              "        text-align: right;\n",
              "    }\n",
              "</style>\n",
              "<table border=\"1\" class=\"dataframe\">\n",
              "  <thead>\n",
              "    <tr style=\"text-align: right;\">\n",
              "      <th></th>\n",
              "      <th>Id</th>\n",
              "      <th>SepalLength[cm]</th>\n",
              "      <th>SepalWidth[cm]</th>\n",
              "      <th>PetalLength[cm]</th>\n",
              "      <th>PetalWidth[cm]</th>\n",
              "      <th>Species</th>\n",
              "    </tr>\n",
              "  </thead>\n",
              "  <tbody>\n",
              "    <tr>\n",
              "      <th>0</th>\n",
              "      <td>1</td>\n",
              "      <td>5.1</td>\n",
              "      <td>3.5</td>\n",
              "      <td>1.4</td>\n",
              "      <td>0.2</td>\n",
              "      <td>0</td>\n",
              "    </tr>\n",
              "    <tr>\n",
              "      <th>1</th>\n",
              "      <td>2</td>\n",
              "      <td>4.9</td>\n",
              "      <td>3.0</td>\n",
              "      <td>1.4</td>\n",
              "      <td>0.2</td>\n",
              "      <td>0</td>\n",
              "    </tr>\n",
              "    <tr>\n",
              "      <th>2</th>\n",
              "      <td>3</td>\n",
              "      <td>4.7</td>\n",
              "      <td>3.2</td>\n",
              "      <td>1.3</td>\n",
              "      <td>0.2</td>\n",
              "      <td>0</td>\n",
              "    </tr>\n",
              "    <tr>\n",
              "      <th>3</th>\n",
              "      <td>4</td>\n",
              "      <td>4.6</td>\n",
              "      <td>3.1</td>\n",
              "      <td>1.5</td>\n",
              "      <td>0.2</td>\n",
              "      <td>0</td>\n",
              "    </tr>\n",
              "    <tr>\n",
              "      <th>4</th>\n",
              "      <td>5</td>\n",
              "      <td>5.0</td>\n",
              "      <td>3.6</td>\n",
              "      <td>1.4</td>\n",
              "      <td>0.2</td>\n",
              "      <td>0</td>\n",
              "    </tr>\n",
              "  </tbody>\n",
              "</table>\n",
              "</div>"
            ],
            "text/plain": [
              "   Id  SepalLength[cm]  ...  PetalWidth[cm]  Species\n",
              "0   1              5.1  ...             0.2        0\n",
              "1   2              4.9  ...             0.2        0\n",
              "2   3              4.7  ...             0.2        0\n",
              "3   4              4.6  ...             0.2        0\n",
              "4   5              5.0  ...             0.2        0\n",
              "\n",
              "[5 rows x 6 columns]"
            ]
          },
          "metadata": {
            "tags": []
          },
          "execution_count": 97
        }
      ]
    },
    {
      "cell_type": "markdown",
      "metadata": {
        "id": "frGGfLgvRLfU"
      },
      "source": [
        "* Utiliza função **unique** que recupera todos os valores únicos no dado array NumPy e ordena estes valores únicos"
      ]
    },
    {
      "cell_type": "code",
      "metadata": {
        "colab": {
          "base_uri": "https://localhost:8080/"
        },
        "id": "CEI-UM1aRMP6",
        "outputId": "7b35c9e3-b0ab-4543-973a-f8a5a00bdc2c"
      },
      "source": [
        "import numpy as np\n",
        "\n",
        "np.unique(df['Species'])"
      ],
      "execution_count": null,
      "outputs": [
        {
          "output_type": "execute_result",
          "data": {
            "text/plain": [
              "array([0, 1, 2])"
            ]
          },
          "metadata": {
            "tags": []
          },
          "execution_count": 98
        }
      ]
    },
    {
      "cell_type": "markdown",
      "metadata": {
        "id": "IFUhOOV7RcUu"
      },
      "source": [
        "* Acessando a matriz NumPy que está subjacente a um DataFrame por meio do atributo **values**. Modifica o tipo de dado, de DataFrame para um array"
      ]
    },
    {
      "cell_type": "code",
      "metadata": {
        "colab": {
          "base_uri": "https://localhost:8080/"
        },
        "id": "146qO9QkSsV4",
        "outputId": "90b0f893-2bdd-411c-e499-af07e3fc83a7"
      },
      "source": [
        "y = df['Species'].values\n",
        "y"
      ],
      "execution_count": null,
      "outputs": [
        {
          "output_type": "execute_result",
          "data": {
            "text/plain": [
              "array([0, 0, 0, 0, 0, 0, 0, 0, 0, 0, 0, 0, 0, 0, 0, 0, 0, 0, 0, 0, 0, 0,\n",
              "       0, 0, 0, 0, 0, 0, 0, 0, 0, 0, 0, 0, 0, 0, 0, 0, 0, 0, 0, 0, 0, 0,\n",
              "       0, 0, 0, 0, 0, 0, 1, 1, 1, 1, 1, 1, 1, 1, 1, 1, 1, 1, 1, 1, 1, 1,\n",
              "       1, 1, 1, 1, 1, 1, 1, 1, 1, 1, 1, 1, 1, 1, 1, 1, 1, 1, 1, 1, 1, 1,\n",
              "       1, 1, 1, 1, 1, 1, 1, 1, 1, 1, 1, 1, 2, 2, 2, 2, 2, 2, 2, 2, 2, 2,\n",
              "       2, 2, 2, 2, 2, 2, 2, 2, 2, 2, 2, 2, 2, 2, 2, 2, 2, 2, 2, 2, 2, 2,\n",
              "       2, 2, 2, 2, 2, 2, 2, 2, 2, 2, 2, 2, 2, 2, 2, 2, 2, 2])"
            ]
          },
          "metadata": {
            "tags": []
          },
          "execution_count": 99
        }
      ]
    },
    {
      "cell_type": "markdown",
      "metadata": {
        "id": "ta8KuHriSvBK"
      },
      "source": [
        "Pegando os dados da coluna 1 à coluna 5 com **iloc** ( que seleciona por números inteiros das linhas, arrays ou por slice), transformando em array com **values** e mostrando a matriz\n",
        "\n"
      ]
    },
    {
      "cell_type": "code",
      "metadata": {
        "id": "Ff6cdsDSTh05"
      },
      "source": [
        "X = df.iloc[:, 1:5].values"
      ],
      "execution_count": null,
      "outputs": []
    },
    {
      "cell_type": "code",
      "metadata": {
        "colab": {
          "base_uri": "https://localhost:8080/"
        },
        "id": "Fc4eycftTujp",
        "outputId": "c148123a-0980-4e9b-ab52-aece66e198c3"
      },
      "source": [
        "X[:5]"
      ],
      "execution_count": null,
      "outputs": [
        {
          "output_type": "execute_result",
          "data": {
            "text/plain": [
              "array([[5.1, 3.5, 1.4, 0.2],\n",
              "       [4.9, 3. , 1.4, 0.2],\n",
              "       [4.7, 3.2, 1.3, 0.2],\n",
              "       [4.6, 3.1, 1.5, 0.2],\n",
              "       [5. , 3.6, 1.4, 0.2]])"
            ]
          },
          "metadata": {
            "tags": []
          },
          "execution_count": 19
        }
      ]
    },
    {
      "cell_type": "markdown",
      "metadata": {
        "id": "ugP5__UGjErY"
      },
      "source": [
        "**Exploratory Data Analysis**\n"
      ]
    },
    {
      "cell_type": "markdown",
      "metadata": {
        "id": "v4FygKtZVbcd"
      },
      "source": [
        "Instalação da biblioteca **MLxtend**"
      ]
    },
    {
      "cell_type": "code",
      "metadata": {
        "colab": {
          "base_uri": "https://localhost:8080/"
        },
        "id": "Ssfj4MUgZBbr",
        "outputId": "75c31760-324b-4bd3-ae42-7234f26c83ec"
      },
      "source": [
        "pip install git+git://github.com/rasbt/mlxtend.git"
      ],
      "execution_count": null,
      "outputs": [
        {
          "output_type": "stream",
          "text": [
            "Collecting git+git://github.com/rasbt/mlxtend.git\n",
            "  Cloning git://github.com/rasbt/mlxtend.git to /tmp/pip-req-build-g054_lm8\n",
            "  Running command git clone -q git://github.com/rasbt/mlxtend.git /tmp/pip-req-build-g054_lm8\n",
            "Requirement already satisfied: scipy>=1.2.1 in /usr/local/lib/python3.7/dist-packages (from mlxtend==0.19.0.dev0) (1.4.1)\n",
            "Requirement already satisfied: numpy>=1.16.2 in /usr/local/lib/python3.7/dist-packages (from mlxtend==0.19.0.dev0) (1.19.5)\n",
            "Requirement already satisfied: pandas>=0.24.2 in /usr/local/lib/python3.7/dist-packages (from mlxtend==0.19.0.dev0) (1.1.5)\n",
            "Requirement already satisfied: scikit-learn>=0.20.3 in /usr/local/lib/python3.7/dist-packages (from mlxtend==0.19.0.dev0) (0.22.2.post1)\n",
            "Requirement already satisfied: matplotlib>=3.0.0 in /usr/local/lib/python3.7/dist-packages (from mlxtend==0.19.0.dev0) (3.2.2)\n",
            "Requirement already satisfied: joblib>=0.13.2 in /usr/local/lib/python3.7/dist-packages (from mlxtend==0.19.0.dev0) (1.0.1)\n",
            "Requirement already satisfied: setuptools in /usr/local/lib/python3.7/dist-packages (from mlxtend==0.19.0.dev0) (57.0.0)\n",
            "Requirement already satisfied: python-dateutil>=2.7.3 in /usr/local/lib/python3.7/dist-packages (from pandas>=0.24.2->mlxtend==0.19.0.dev0) (2.8.1)\n",
            "Requirement already satisfied: pytz>=2017.2 in /usr/local/lib/python3.7/dist-packages (from pandas>=0.24.2->mlxtend==0.19.0.dev0) (2018.9)\n",
            "Requirement already satisfied: cycler>=0.10 in /usr/local/lib/python3.7/dist-packages (from matplotlib>=3.0.0->mlxtend==0.19.0.dev0) (0.10.0)\n",
            "Requirement already satisfied: kiwisolver>=1.0.1 in /usr/local/lib/python3.7/dist-packages (from matplotlib>=3.0.0->mlxtend==0.19.0.dev0) (1.3.1)\n",
            "Requirement already satisfied: pyparsing!=2.0.4,!=2.1.2,!=2.1.6,>=2.0.1 in /usr/local/lib/python3.7/dist-packages (from matplotlib>=3.0.0->mlxtend==0.19.0.dev0) (2.4.7)\n",
            "Requirement already satisfied: six>=1.5 in /usr/local/lib/python3.7/dist-packages (from python-dateutil>=2.7.3->pandas>=0.24.2->mlxtend==0.19.0.dev0) (1.15.0)\n",
            "Building wheels for collected packages: mlxtend\n",
            "  Building wheel for mlxtend (setup.py) ... \u001b[?25l\u001b[?25hdone\n",
            "  Created wheel for mlxtend: filename=mlxtend-0.19.0.dev0-py2.py3-none-any.whl size=1592327 sha256=9d0738867690805d53599c510a01d15e7888e5b2d1fc1e582a2f54694cd41f1f\n",
            "  Stored in directory: /tmp/pip-ephem-wheel-cache-2xri7ng2/wheels/85/e4/4c/ee71547ac9ea223b07fe8f55b0e5f71536a6a34ae3480205f3\n",
            "Successfully built mlxtend\n",
            "Installing collected packages: mlxtend\n",
            "  Found existing installation: mlxtend 0.14.0\n",
            "    Uninstalling mlxtend-0.14.0:\n",
            "      Successfully uninstalled mlxtend-0.14.0\n",
            "Successfully installed mlxtend-0.19.0.dev0\n"
          ],
          "name": "stdout"
        }
      ]
    },
    {
      "cell_type": "markdown",
      "metadata": {
        "id": "lrM0EHCaZhEk"
      },
      "source": [
        "* Importando matplotlib\n",
        "* Importando o arquivo iris_data direto do **MLxtend**\n",
        "* Importando da sub biblioteca plotting a **função scatterplotmatrix**\n",
        "* Utilizando o **scatterplotmatrix**, plota na figura todos os valores da matriz x onde y é igual ao numero dado\n",
        "* Ajuste o preenchimento entre e ao redor dos subplots com o **tight_layout()**\n",
        "* Adiciona as legendas com **legend** e **labels**\n",
        "* Mostra o gráfico com **show**\n"
      ]
    },
    {
      "cell_type": "code",
      "metadata": {
        "colab": {
          "base_uri": "https://localhost:8080/",
          "height": 585
        },
        "id": "4D4LOnyoZULg",
        "outputId": "10fca88a-be50-4144-db7f-1cea8229277c"
      },
      "source": [
        "%matplotlib inline\n",
        "import matplotlib.pyplot as plt\n",
        "from mlxtend.data import iris_data\n",
        "from mlxtend.plotting import scatterplotmatrix\n",
        "\n",
        "\n",
        "names = df.columns[1:5]\n",
        "fig, axes = scatterplotmatrix(X[y==0], figsize=(10, 8), alpha=0.5)\n",
        "fig, axes = scatterplotmatrix(X[y==1], fig_axes=(fig, axes), alpha=0.5)\n",
        "fig, axes = scatterplotmatrix(X[y==2], fig_axes=(fig, axes), alpha=0.5, names=names)\n",
        "\n",
        "plt.tight_layout()\n",
        "plt.legend(labels=['Setosa', 'Versicolor', 'Virginica'])\n",
        "#plt.savefig('images/eda.pdf')\n",
        "plt.show()"
      ],
      "execution_count": null,
      "outputs": [
        {
          "output_type": "display_data",
          "data": {
            "image/png": "[encoded data removed]",
            "text/plain": [
              "<Figure size 720x576 with 16 Axes>"
            ]
          },
          "metadata": {
            "tags": [],
            "needs_background": "light"
          }
        }
      ]
    },
    {
      "cell_type": "markdown",
      "metadata": {
        "id": "SAhFBBYJecin"
      },
      "source": [
        "**Splitting a Dataset into Train, Validation, and Test Subsets**"
      ]
    },
    {
      "cell_type": "markdown",
      "metadata": {
        "id": "5NWlwy9Tj446"
      },
      "source": [
        "* Retornando quantidade de caracteristicas na linha 0 de x, utilizando **shape**\n",
        "* Com **arange** cria índices de 1 até 150\n",
        "* Cria um objeto randômico com **random.RandomState**\n",
        "* Chama a subfunção desse objeto (rng) passando os indices criados, gerando as permutações da lista com o **permutation**\n"
      ]
    },
    {
      "cell_type": "code",
      "metadata": {
        "colab": {
          "base_uri": "https://localhost:8080/"
        },
        "id": "uZjo9lOKjOQp",
        "outputId": "d85d33ea-c4b5-4369-ad43-c4095e94ddff"
      },
      "source": [
        "np.shape(X[0])"
      ],
      "execution_count": null,
      "outputs": [
        {
          "output_type": "execute_result",
          "data": {
            "text/plain": [
              "(4,)"
            ]
          },
          "metadata": {
            "tags": []
          },
          "execution_count": 22
        }
      ]
    },
    {
      "cell_type": "code",
      "metadata": {
        "colab": {
          "base_uri": "https://localhost:8080/"
        },
        "id": "gLoMl4b5jU7f",
        "outputId": "371d9f45-81d0-4ee3-f92d-86599c07b339"
      },
      "source": [
        "import numpy as np\n",
        "\n",
        "\n",
        "indices = np.arange(X.shape[0])\n",
        "rng = np.random.RandomState(123)\n",
        "permuted_indices = rng.permutation(indices)\n",
        "permuted_indices"
      ],
      "execution_count": null,
      "outputs": [
        {
          "output_type": "execute_result",
          "data": {
            "text/plain": [
              "array([ 72, 112, 132,  88,  37, 138,  87,  42,   8,  90, 141,  33,  59,\n",
              "       116, 135, 104,  36,  13,  63,  45,  28, 133,  24, 127,  46,  20,\n",
              "        31, 121, 117,   4, 130, 119,  29,   0,  62,  93, 131,   5,  16,\n",
              "        82,  60,  35, 143, 145, 142, 114, 136,  53,  19,  38, 110,  23,\n",
              "         9,  86,  91,  89,  79, 101,  65, 115,  41, 124,  95,  21,  11,\n",
              "       103,  74, 122, 118,  44,  51,  81, 149,  12, 129,  56,  50,  25,\n",
              "       128, 146,  43,   1,  71,  54, 100,  14,   6,  80,  26,  70, 139,\n",
              "        30, 108,  15,  18,  77,  22,  10,  58, 107,  75,  64,  69,   3,\n",
              "        40,  76, 134,  34,  27,  94,  85,  97, 102,  52,  92,  99, 105,\n",
              "         7,  48,  61, 120, 137, 125, 147,  39,  84,   2,  67,  55,  49,\n",
              "        68, 140,  78, 144, 111,  32,  73,  47, 148, 113,  96,  57, 123,\n",
              "       106,  83,  17,  98,  66, 126, 109])"
            ]
          },
          "metadata": {
            "tags": []
          },
          "execution_count": 23
        }
      ]
    },
    {
      "cell_type": "markdown",
      "metadata": {
        "id": "xJSo-ULeqxD1"
      },
      "source": [
        "Separa a quantidade de flores que vai ser usado na base de treinamento, de validação e de teste respectivamente"
      ]
    },
    {
      "cell_type": "code",
      "metadata": {
        "colab": {
          "base_uri": "https://localhost:8080/"
        },
        "id": "Y4cnPCseqxlv",
        "outputId": "fbd734f8-e1ef-4b2e-f7a4-30f149f6f323"
      },
      "source": [
        "train_size, valid_size = int(0.65*X.shape[0]), int(0.15*X.shape[0])\n",
        "test_size = X.shape[0] - (train_size + valid_size)\n",
        "print(train_size, valid_size, test_size)"
      ],
      "execution_count": null,
      "outputs": [
        {
          "output_type": "stream",
          "text": [
            "97 22 31\n"
          ],
          "name": "stdout"
        }
      ]
    },
    {
      "cell_type": "markdown",
      "metadata": {
        "id": "NrG8dMMoqy-H"
      },
      "source": [
        "Adiciona 97 dados de permuted_incides para a base de treinamento, 22 pra base de validação e 31 pra base de teste"
      ]
    },
    {
      "cell_type": "code",
      "metadata": {
        "id": "btdc52_qqzbb"
      },
      "source": [
        "train_ind = permuted_indices[:train_size]\n",
        "valid_ind = permuted_indices[train_size:(train_size + valid_size)]\n",
        "test_ind = permuted_indices[(train_size + valid_size):]"
      ],
      "execution_count": null,
      "outputs": []
    },
    {
      "cell_type": "markdown",
      "metadata": {
        "id": "uPZ0K4vEq4Sx"
      },
      "source": [
        "Usa os indices criados acima para indexar x e y"
      ]
    },
    {
      "cell_type": "code",
      "metadata": {
        "colab": {
          "base_uri": "https://localhost:8080/"
        },
        "id": "rcPRcGRMq43k",
        "outputId": "90ed73ca-01c8-4424-c2e6-4e1ea185bc6c"
      },
      "source": [
        "X_train, y_train = X[train_ind], y[train_ind]\n",
        "X_valid, y_valid = X[valid_ind], y[valid_ind]\n",
        "X_test, y_test = X[test_ind], y[test_ind]\n",
        "\n",
        "X_train.shape"
      ],
      "execution_count": null,
      "outputs": [
        {
          "output_type": "execute_result",
          "data": {
            "text/plain": [
              "(97, 4)"
            ]
          },
          "metadata": {
            "tags": []
          },
          "execution_count": 27
        }
      ]
    },
    {
      "cell_type": "markdown",
      "metadata": {
        "id": "Z9jWnH2st1Ww"
      },
      "source": [
        "**Python Classes**"
      ]
    },
    {
      "cell_type": "markdown",
      "metadata": {
        "id": "EfNBEH_lt7DX"
      },
      "source": [
        "Cria uma classe chamada de VehicleClass e dentro dessa classes cria outras funções"
      ]
    },
    {
      "cell_type": "code",
      "metadata": {
        "id": "1Mhx-mw-t3Xq"
      },
      "source": [
        "class VehicleClass():\n",
        "    \n",
        "    def __init__(self, horsepower):\n",
        "        \"This is the 'init' method\"\n",
        "        # this is a class attribute:\n",
        "        self.horsepower = horsepower\n",
        "        \n",
        "    def horsepower_to_torque(self, rpm):\n",
        "        \"This is a regular method\"\n",
        "        numerator = self.horsepower * 33000\n",
        "        denominator = 2* np.pi * 5000\n",
        "        return numerator/denominator\n",
        "    \n",
        "    def tune_motor(self):\n",
        "        self.horsepower *= 2\n",
        "    \n",
        "    def _private_method(self):\n",
        "        print('this is private')\n",
        "    \n",
        "    def __very_private_method(self):\n",
        "        print('this is very private')"
      ],
      "execution_count": null,
      "outputs": []
    },
    {
      "cell_type": "markdown",
      "metadata": {
        "id": "azg6U8OOu8GO"
      },
      "source": [
        "Instância o objeto passando o parâmetro necessário para instancia-lo"
      ]
    },
    {
      "cell_type": "code",
      "metadata": {
        "colab": {
          "base_uri": "https://localhost:8080/"
        },
        "id": "-H0kOzP1u8l4",
        "outputId": "81c5bc74-b2ac-46a0-a2fd-e881a6b9294e"
      },
      "source": [
        "# instantiate an object:\n",
        "car1 = VehicleClass(horsepower=123)\n",
        "print(car1.horsepower)"
      ],
      "execution_count": null,
      "outputs": [
        {
          "output_type": "stream",
          "text": [
            "123\n"
          ],
          "name": "stdout"
        }
      ]
    },
    {
      "cell_type": "markdown",
      "metadata": {
        "id": "3BwZdjcTu-pv"
      },
      "source": [
        "Retorna o calculo da função **horsepower_to_torque** passando rpm com valor de 5000"
      ]
    },
    {
      "cell_type": "code",
      "metadata": {
        "colab": {
          "base_uri": "https://localhost:8080/"
        },
        "id": "UBZfwoN0u_Ej",
        "outputId": "025e8440-47eb-4e9a-ac59-82f58769211e"
      },
      "source": [
        "car1.horsepower_to_torque(rpm=5000)"
      ],
      "execution_count": null,
      "outputs": [
        {
          "output_type": "execute_result",
          "data": {
            "text/plain": [
              "129.20198280200063"
            ]
          },
          "metadata": {
            "tags": []
          },
          "execution_count": 31
        }
      ]
    },
    {
      "cell_type": "markdown",
      "metadata": {
        "id": "HdAjQPqcvpXL"
      },
      "source": [
        "Chama o método **tune_motor** pra car1 e depois o **horsepower_to_torque** que, devido ao método tune_motor, apresenta agora um resultado diferente"
      ]
    },
    {
      "cell_type": "code",
      "metadata": {
        "colab": {
          "base_uri": "https://localhost:8080/"
        },
        "id": "AOLts6H5vp3B",
        "outputId": "ace214ff-d0fc-4a89-a693-0e426d6533b5"
      },
      "source": [
        "car1.tune_motor()\n",
        "car1.horsepower_to_torque(rpm=5000)"
      ],
      "execution_count": null,
      "outputs": [
        {
          "output_type": "execute_result",
          "data": {
            "text/plain": [
              "258.40396560400126"
            ]
          },
          "metadata": {
            "tags": []
          },
          "execution_count": 32
        }
      ]
    },
    {
      "cell_type": "markdown",
      "metadata": {
        "id": "0zpT5Z7LwK8h"
      },
      "source": [
        "Chama o método **_private_metho**"
      ]
    },
    {
      "cell_type": "code",
      "metadata": {
        "colab": {
          "base_uri": "https://localhost:8080/"
        },
        "id": "ZES4its0weJe",
        "outputId": "fee617a5-93c5-4888-f05d-eff23aba952f"
      },
      "source": [
        "car1._private_method()"
      ],
      "execution_count": null,
      "outputs": [
        {
          "output_type": "stream",
          "text": [
            "this is private\n"
          ],
          "name": "stdout"
        }
      ]
    },
    {
      "cell_type": "markdown",
      "metadata": {
        "id": "iprE0ny3wh0A"
      },
      "source": [
        "Cria uma nova classe **CarClass** que vai herdar todos os métodos e dados da classe **VehicleClass**"
      ]
    },
    {
      "cell_type": "code",
      "metadata": {
        "colab": {
          "base_uri": "https://localhost:8080/"
        },
        "id": "6qSSTFD-w08u",
        "outputId": "0f819cc5-e9ba-432f-f11b-370182e9531d"
      },
      "source": [
        "class CarClass(VehicleClass):\n",
        "\n",
        "    def __init__(self, horsepower):\n",
        "        super(CarClass, self).__init__(horsepower)\n",
        "        self.num_wheels = 4\n",
        "    \n",
        "new_car = CarClass(horsepower=123)\n",
        "print('Number of wheels:', new_car.num_wheels)\n",
        "print('Horsepower:', new_car.horsepower)\n",
        "new_car.tune_motor()\n",
        "print('Horsepower:', new_car.horsepower)"
      ],
      "execution_count": null,
      "outputs": [
        {
          "output_type": "stream",
          "text": [
            "Number of wheels: 4\n",
            "Horsepower: 123\n",
            "Horsepower: 246\n"
          ],
          "name": "stdout"
        }
      ]
    },
    {
      "cell_type": "markdown",
      "metadata": {
        "id": "yEQOefM5w9tG"
      },
      "source": [
        "**K-Nearest Neighbors Implementation**\n",
        "######Implementação muito simples de um classificador K-Nearest Neighbors"
      ]
    },
    {
      "cell_type": "code",
      "metadata": {
        "id": "veS_yAiMxDMZ"
      },
      "source": [
        "class KNNClassifier(object):\n",
        "    def __init__(self, k, dist_fn=None):\n",
        "        self.k = k\n",
        "        if dist_fn is None:\n",
        "            self.dist_fn = self._euclidean_dist\n",
        "    \n",
        "    def _euclidean_dist(self, a, b):\n",
        "        dist = 0.\n",
        "        for ele_i, ele_j in zip(a, b):\n",
        "            dist += ((ele_i - ele_j)**2)\n",
        "        dist = dist**0.5\n",
        "        return dist\n",
        "        \n",
        "    def _find_nearest(self, x):\n",
        "        dist_idx_pairs = []\n",
        "        for j in range(self.dataset_.shape[0]):\n",
        "            d = self.dist_fn(x, self.dataset_[j])\n",
        "            dist_idx_pairs.append((d, j))\n",
        "            \n",
        "        sorted_dist_idx_pairs = sorted(dist_idx_pairs)\n",
        "\n",
        "        return sorted_dist_idx_pairs\n",
        "    \n",
        "    def fit(self, X, y):\n",
        "        self.dataset_ = X.copy()\n",
        "        self.labels_ = y.copy()\n",
        "        self.possible_labels_ = np.unique(y)\n",
        "\n",
        "    def predict(self, X):\n",
        "        predictions = np.zeros(X.shape[0], dtype=int)\n",
        "        for i in range(X.shape[0]):\n",
        "            k_nearest = self._find_nearest(X[i])[:self.k]\n",
        "            indices = [entry[1] for entry in k_nearest]\n",
        "            k_labels = self.labels_[indices]\n",
        "            counts = np.bincount(k_labels,\n",
        "                                 minlength=self.possible_labels_.shape[0])\n",
        "            pred_label = np.argmax(counts)\n",
        "            predictions[i] = pred_label\n",
        "        return predictions\n",
        "    \n",
        "    \n",
        "\n",
        "knn_model = KNNClassifier(k=3)\n",
        "knn_model.fit(X_train, y_train)"
      ],
      "execution_count": null,
      "outputs": []
    },
    {
      "cell_type": "code",
      "metadata": {
        "colab": {
          "base_uri": "https://localhost:8080/"
        },
        "id": "kFyAVqjrxKoM",
        "outputId": "e0b4a0d5-6c28-40f3-92e2-36207f8923ab"
      },
      "source": [
        "print(knn_model.predict(X_valid))"
      ],
      "execution_count": null,
      "outputs": [
        {
          "output_type": "stream",
          "text": [
            "[0 1 2 1 1 1 0 0 1 2 0 0 1 1 1 2 1 1 1 2 0 0]\n"
          ],
          "name": "stdout"
        }
      ]
    },
    {
      "cell_type": "markdown",
      "metadata": {
        "id": "4Spb2SNsxOfb"
      },
      "source": [
        "**The Scikit-Learn Estimator API**"
      ]
    },
    {
      "cell_type": "markdown",
      "metadata": {
        "id": "NjC9hXXs0g5b"
      },
      "source": [
        "* Importa os classificadores\n",
        "* Cria o objeto knn_model a partir do classificador KNeighborsClassifier\n",
        "* Chama a função **fit** para armazenar os valores passados de x e y\n",
        "* Plota o gráfico\n"
      ]
    },
    {
      "cell_type": "code",
      "metadata": {
        "colab": {
          "base_uri": "https://localhost:8080/",
          "height": 283
        },
        "id": "pgfNrZkHxO43",
        "outputId": "40947f83-c460-4afd-cd24-7470cd78963c"
      },
      "source": [
        "from sklearn.neighbors import KNeighborsClassifier\n",
        "from mlxtend.plotting import plot_decision_regions\n",
        "\n",
        "\n",
        "knn_model = KNeighborsClassifier(n_neighbors=3)\n",
        "knn_model.fit(X_train[:, 2:], y_train)\n",
        "plot_decision_regions(X_train[:, 2:], y_train, knn_model)\n",
        "plt.xlabel('petal length[cm]')\n",
        "plt.ylabel('petal width[cm]')\n",
        "#plt.savefig('images/decisionreg.pdf')\n",
        "plt.show()"
      ],
      "execution_count": null,
      "outputs": [
        {
          "output_type": "display_data",
          "data": {
            "image/png": "[encoded data removed]",
            "text/plain": [
              "<Figure size 432x288 with 1 Axes>"
            ]
          },
          "metadata": {
            "tags": [],
            "needs_background": "light"
          }
        }
      ]
    },
    {
      "cell_type": "markdown",
      "metadata": {
        "id": "t0nh7sjS1gSu"
      },
      "source": [
        "**Stratification**"
      ]
    },
    {
      "cell_type": "markdown",
      "metadata": {
        "id": "6WyL14YdYPQA"
      },
      "source": [
        "* Importa train_tes_split do submodel **model_selection** da biblioteca **sklearn**\n",
        "* Passa os parâmetros a matriz de caracteristica X, o vetor de rótulos Y, e dizendo que o teste será de 20%, com **suffle=True** (permutação sendo permitida), um numero randônico e o **stratify=y** (que vai garantir uma divisão de forma que a proporção dos valores na amostra produzida seja a mesma que a proporção dos valores fornecidos pra cada classe)\n",
        "* Chama a função **bincount** que conta o número de ocorrências de cada valor na matriz de ints não negativos\n",
        "\n"
      ]
    },
    {
      "cell_type": "code",
      "metadata": {
        "colab": {
          "base_uri": "https://localhost:8080/"
        },
        "id": "QtC3jya31hvW",
        "outputId": "8b7358f1-0b5a-454d-896e-9c83e5fad459"
      },
      "source": [
        "from sklearn.model_selection import train_test_split\n",
        "\n",
        "\n",
        "X_temp, X_test, y_temp, y_test = \\\n",
        "        train_test_split(X, y, test_size=0.2, \n",
        "                         shuffle=True, random_state=123, stratify=y)\n",
        "np.bincount(y_temp)"
      ],
      "execution_count": null,
      "outputs": [
        {
          "output_type": "execute_result",
          "data": {
            "text/plain": [
              "array([40, 40, 40])"
            ]
          },
          "metadata": {
            "tags": []
          },
          "execution_count": 38
        }
      ]
    },
    {
      "cell_type": "markdown",
      "metadata": {
        "id": "Bhl43_P_1ufE"
      },
      "source": [
        "Neste exemplo são mostrados as  dimensões do array com o método **shape** e as respectivas proporções das classe com o **bincount**"
      ]
    },
    {
      "cell_type": "code",
      "metadata": {
        "colab": {
          "base_uri": "https://localhost:8080/"
        },
        "id": "6tN8h-551u5q",
        "outputId": "75b90fb5-b290-44f6-9cd4-d3a047a239a0"
      },
      "source": [
        "X_train, X_valid, y_train, y_valid = \\\n",
        "        train_test_split(X_temp, y_temp, test_size=0.2,\n",
        "                         shuffle=True, random_state=123, stratify=y_temp)\n",
        "\n",
        "print('Train size', X_train.shape, 'class proportions', np.bincount(y_train))\n",
        "print('Valid size', X_valid.shape, 'class proportions', np.bincount(y_valid))\n",
        "print('Test size', X_test.shape, 'class proportions', np.bincount(y_test))"
      ],
      "execution_count": null,
      "outputs": [
        {
          "output_type": "stream",
          "text": [
            "Train size (96, 4) class proportions [32 32 32]\n",
            "Valid size (24, 4) class proportions [8 8 8]\n",
            "Test size (30, 4) class proportions [10 10 10]\n"
          ],
          "name": "stdout"
        }
      ]
    },
    {
      "cell_type": "markdown",
      "metadata": {
        "id": "PIJXC19q1yWN"
      },
      "source": [
        "**Data Scaling**"
      ]
    },
    {
      "cell_type": "markdown",
      "metadata": {
        "id": "klTBNWcsczyu"
      },
      "source": [
        "**Normalization -- Min-max scaling**\n",
        "######Dado qualquer range de valores, aplicado na fórmula da normalização de min-max, ele retorna-se um array em que o menor valor é o 0 e o maior valor o 1"
      ]
    },
    {
      "cell_type": "code",
      "metadata": {
        "colab": {
          "base_uri": "https://localhost:8080/"
        },
        "id": "GC6Ne5js1yr-",
        "outputId": "61fae740-6232-4d16-eb1b-2465d956afb9"
      },
      "source": [
        "x = np.arange(6).astype(float)\n",
        "x"
      ],
      "execution_count": null,
      "outputs": [
        {
          "output_type": "execute_result",
          "data": {
            "text/plain": [
              "array([0., 1., 2., 3., 4., 5.])"
            ]
          },
          "metadata": {
            "tags": []
          },
          "execution_count": 40
        }
      ]
    },
    {
      "cell_type": "code",
      "metadata": {
        "colab": {
          "base_uri": "https://localhost:8080/"
        },
        "id": "EyV6bVea157i",
        "outputId": "d45524d9-eeb1-454b-9cdf-476ca26a139d"
      },
      "source": [
        "x_norm = (x - x.min()) / (x.max() - x.min())\n",
        "x_norm"
      ],
      "execution_count": null,
      "outputs": [
        {
          "output_type": "execute_result",
          "data": {
            "text/plain": [
              "array([0. , 0.2, 0.4, 0.6, 0.8, 1. ])"
            ]
          },
          "metadata": {
            "tags": []
          },
          "execution_count": 41
        }
      ]
    },
    {
      "cell_type": "markdown",
      "metadata": {
        "id": "GtJuFGCw2EOs"
      },
      "source": [
        "**Standardization**\n",
        "######A formula da **Estandardização** pega cada numero do vetor, subtrai pela média e divide o resultado pelo desvio padrão e retornando um novo vetor com média=0 e um desvio padrão=1"
      ]
    },
    {
      "cell_type": "code",
      "metadata": {
        "colab": {
          "base_uri": "https://localhost:8080/"
        },
        "id": "Ak-s-Ntd2E-C",
        "outputId": "e79f4fdc-8059-429d-a70b-ece1252702a8"
      },
      "source": [
        "x = np.arange(6).astype(float)\n",
        "x"
      ],
      "execution_count": null,
      "outputs": [
        {
          "output_type": "execute_result",
          "data": {
            "text/plain": [
              "array([0., 1., 2., 3., 4., 5.])"
            ]
          },
          "metadata": {
            "tags": []
          },
          "execution_count": 42
        }
      ]
    },
    {
      "cell_type": "code",
      "metadata": {
        "colab": {
          "base_uri": "https://localhost:8080/"
        },
        "id": "18HpOOrD2JgA",
        "outputId": "d00ce66f-a4be-4cd7-f61d-ad7d7938de5a"
      },
      "source": [
        "x_std = (x - x.mean()) / x.std()\n",
        "x_std"
      ],
      "execution_count": null,
      "outputs": [
        {
          "output_type": "execute_result",
          "data": {
            "text/plain": [
              "array([-1.46385011, -0.87831007, -0.29277002,  0.29277002,  0.87831007,\n",
              "        1.46385011])"
            ]
          },
          "metadata": {
            "tags": []
          },
          "execution_count": 43
        }
      ]
    },
    {
      "cell_type": "markdown",
      "metadata": {
        "id": "HbwLUW2V2N_P"
      },
      "source": [
        "Calculando o desvio padrão pela biblioteca **std** do Pandas"
      ]
    },
    {
      "cell_type": "code",
      "metadata": {
        "colab": {
          "base_uri": "https://localhost:8080/"
        },
        "id": "smON3h4D2OXN",
        "outputId": "e7138e94-aba3-4a6b-bc7e-13c4211fb2af"
      },
      "source": [
        "df = pd.DataFrame([1, 2, 1, 2, 3, 4])\n",
        "df[0].std()"
      ],
      "execution_count": null,
      "outputs": [
        {
          "output_type": "execute_result",
          "data": {
            "text/plain": [
              "1.1690451944500122"
            ]
          },
          "metadata": {
            "tags": []
          },
          "execution_count": 44
        }
      ]
    },
    {
      "cell_type": "markdown",
      "metadata": {
        "id": "1grLxEf42P80"
      },
      "source": [
        "Transformando os valores em array com **value**  e calculando o desvio padrão pela biblioteca **std** do Numpy"
      ]
    },
    {
      "cell_type": "code",
      "metadata": {
        "colab": {
          "base_uri": "https://localhost:8080/"
        },
        "id": "wDBjTw452QU1",
        "outputId": "ffd3a3fa-f085-49e0-ce08-4a06870ae98e"
      },
      "source": [
        "df[0].values.std()"
      ],
      "execution_count": null,
      "outputs": [
        {
          "output_type": "execute_result",
          "data": {
            "text/plain": [
              "1.0671873729054748"
            ]
          },
          "metadata": {
            "tags": []
          },
          "execution_count": 45
        }
      ]
    },
    {
      "cell_type": "markdown",
      "metadata": {
        "id": "N8NRbitD2TjE"
      },
      "source": [
        "Remover o grau extra de liberdade por meio dos parâmetro **ddof** do NumPy "
      ]
    },
    {
      "cell_type": "code",
      "metadata": {
        "colab": {
          "base_uri": "https://localhost:8080/"
        },
        "id": "FdD9OTxe2UAe",
        "outputId": "988a76a2-ed9a-4c3a-b9ed-05b656597c57"
      },
      "source": [
        "df[0].values.std(ddof=1)"
      ],
      "execution_count": null,
      "outputs": [
        {
          "output_type": "execute_result",
          "data": {
            "text/plain": [
              "1.1690451944500122"
            ]
          },
          "metadata": {
            "tags": []
          },
          "execution_count": 46
        }
      ]
    },
    {
      "cell_type": "markdown",
      "metadata": {
        "id": "9pG1eZ-L2X6J"
      },
      "source": [
        "**Scaling Validation and Test Sets**\n",
        "###### * Calcula a média e o desvio padrão sobre a base de dados de treino\n",
        "######* Normaliza a base de treino, validação e teste"
      ]
    },
    {
      "cell_type": "code",
      "metadata": {
        "id": "i20_3IRb2YTl"
      },
      "source": [
        "mu, sigma = X_train.mean(axis=0), X_train.std(axis=0)\n",
        "\n",
        "X_train_std = (X_train - mu) / sigma\n",
        "X_valid_std = (X_valid - mu) / sigma\n",
        "X_test_std = (X_test - mu) / sigma"
      ],
      "execution_count": null,
      "outputs": []
    },
    {
      "cell_type": "markdown",
      "metadata": {
        "id": "1kJygAjT2bkS"
      },
      "source": [
        "**Scikit-Learn Transformer API**\n",
        "#####*Usando as funcionalidades do scikit para simplificar o processo, importando do submódulo preprocessing da biblioteca do skelarn\n",
        "######* Usando o método **fit** para estimar a média e desvio padrão da base de dados de treino\n",
        "######* Aplica o método **transform** que retorna um quadro de dados autoproduzido com valores transformados após aplicar a função especificada em seu parâmetro. Este dataframe tem o mesmo comprimento que o dataframe passado. "
      ]
    },
    {
      "cell_type": "code",
      "metadata": {
        "id": "V2nXu7DC2d4R"
      },
      "source": [
        "from sklearn.preprocessing import MinMaxScaler\n",
        "from sklearn.preprocessing import StandardScaler\n",
        "\n",
        "\n",
        "scaler = StandardScaler()\n",
        "scaler.fit(X_train)\n",
        "X_train_std = scaler.transform(X_train)\n",
        "X_valid_std = scaler.transform(X_valid)\n",
        "X_test_std = scaler.transform(X_test)"
      ],
      "execution_count": null,
      "outputs": []
    },
    {
      "cell_type": "markdown",
      "metadata": {
        "id": "uBCTKY7J2pJM"
      },
      "source": [
        "**Categorical Data**"
      ]
    },
    {
      "cell_type": "code",
      "metadata": {
        "colab": {
          "base_uri": "https://localhost:8080/",
          "height": 158
        },
        "id": "d19wtqIv2po4",
        "outputId": "4cb6c817-229a-4fd5-d15c-40d54153a806"
      },
      "source": [
        "import pandas as pd\n",
        "\n",
        "from google.colab import drive\n",
        "drive.mount('/content/drive')\n",
        "df = pd.read_csv('/content/drive/My Drive/Google Drive/categoricaldata.csv')\n",
        "df"
      ],
      "execution_count": null,
      "outputs": [
        {
          "output_type": "stream",
          "text": [
            "Mounted at /content/drive\n"
          ],
          "name": "stdout"
        },
        {
          "output_type": "execute_result",
          "data": {
            "text/html": [
              "<div>\n",
              "<style scoped>\n",
              "    .dataframe tbody tr th:only-of-type {\n",
              "        vertical-align: middle;\n",
              "    }\n",
              "\n",
              "    .dataframe tbody tr th {\n",
              "        vertical-align: top;\n",
              "    }\n",
              "\n",
              "    .dataframe thead th {\n",
              "        text-align: right;\n",
              "    }\n",
              "</style>\n",
              "<table border=\"1\" class=\"dataframe\">\n",
              "  <thead>\n",
              "    <tr style=\"text-align: right;\">\n",
              "      <th></th>\n",
              "      <th>color</th>\n",
              "      <th>size</th>\n",
              "      <th>price</th>\n",
              "      <th>classlabel</th>\n",
              "    </tr>\n",
              "  </thead>\n",
              "  <tbody>\n",
              "    <tr>\n",
              "      <th>0</th>\n",
              "      <td>green</td>\n",
              "      <td>M</td>\n",
              "      <td>10.1</td>\n",
              "      <td>class1</td>\n",
              "    </tr>\n",
              "    <tr>\n",
              "      <th>1</th>\n",
              "      <td>red</td>\n",
              "      <td>L</td>\n",
              "      <td>13.5</td>\n",
              "      <td>class2</td>\n",
              "    </tr>\n",
              "    <tr>\n",
              "      <th>2</th>\n",
              "      <td>blue</td>\n",
              "      <td>XXL</td>\n",
              "      <td>15.3</td>\n",
              "      <td>class1</td>\n",
              "    </tr>\n",
              "  </tbody>\n",
              "</table>\n",
              "</div>"
            ],
            "text/plain": [
              "   color size  price classlabel\n",
              "0  green    M   10.1     class1\n",
              "1    red    L   13.5     class2\n",
              "2   blue  XXL   15.3     class1"
            ]
          },
          "metadata": {
            "tags": []
          },
          "execution_count": 3
        }
      ]
    },
    {
      "cell_type": "markdown",
      "metadata": {
        "id": "4_o9Q6Fn2ttA"
      },
      "source": [
        "Transforando os dados categóricos em dados numéricos usando o método **map**"
      ]
    },
    {
      "cell_type": "code",
      "metadata": {
        "id": "7AXw2R682uH5"
      },
      "source": [
        "mapping_dict = {'M': 2,\n",
        "                'L': 3,\n",
        "                'XXL': 5}\n",
        "\n",
        "df['size'] = df['size'].map(mapping_dict)\n",
        "df"
      ],
      "execution_count": null,
      "outputs": []
    },
    {
      "cell_type": "markdown",
      "metadata": {
        "id": "dbnV8P-C2x-F"
      },
      "source": [
        "Usando **LabelEncoder** do scikit-learn para converter os dados da coluna classlabel em inteiros como uma alternativa ao uso do método map, chamando o **fit_transform** para essa transformação\n"
      ]
    },
    {
      "cell_type": "code",
      "metadata": {
        "id": "0aOHAWty2yik"
      },
      "source": [
        "from sklearn.preprocessing import LabelEncoder\n",
        "\n",
        "\n",
        "le = LabelEncoder()\n",
        "df['classlabel'] = le.fit_transform(df['classlabel'])\n",
        "df"
      ],
      "execution_count": null,
      "outputs": []
    },
    {
      "cell_type": "markdown",
      "metadata": {
        "id": "j9gAEXcB21Ez"
      },
      "source": [
        "Converte variáveis ​​categóricas referentes as cores em variáveis ​​dummy / indicadoras, com o método **get_dummies**"
      ]
    },
    {
      "cell_type": "code",
      "metadata": {
        "id": "T_InehpL21jw"
      },
      "source": [
        "pd.get_dummies(df)\n"
      ],
      "execution_count": null,
      "outputs": []
    },
    {
      "cell_type": "markdown",
      "metadata": {
        "id": "JgbISRnC26GG"
      },
      "source": [
        "Dropando  coluna com **drop_first=True**"
      ]
    },
    {
      "cell_type": "code",
      "metadata": {
        "id": "1K7CdQUc26fU"
      },
      "source": [
        "\n",
        "pd.get_dummies(df, drop_first=True)"
      ],
      "execution_count": null,
      "outputs": []
    },
    {
      "cell_type": "markdown",
      "metadata": {
        "id": "n5bHl9GS28wp"
      },
      "source": [
        "**Missing Data**"
      ]
    },
    {
      "cell_type": "code",
      "metadata": {
        "colab": {
          "base_uri": "https://localhost:8080/",
          "height": 142
        },
        "id": "CW9W99pp29FH",
        "outputId": "c92219c2-ed3b-4542-c419-ea49bcd38d28"
      },
      "source": [
        "import pandas as pd\n",
        "df = pd.read_csv('/content/drive/My Drive/Google Drive/missingdata.csv')\n",
        "df"
      ],
      "execution_count": null,
      "outputs": [
        {
          "output_type": "execute_result",
          "data": {
            "text/html": [
              "<div>\n",
              "<style scoped>\n",
              "    .dataframe tbody tr th:only-of-type {\n",
              "        vertical-align: middle;\n",
              "    }\n",
              "\n",
              "    .dataframe tbody tr th {\n",
              "        vertical-align: top;\n",
              "    }\n",
              "\n",
              "    .dataframe thead th {\n",
              "        text-align: right;\n",
              "    }\n",
              "</style>\n",
              "<table border=\"1\" class=\"dataframe\">\n",
              "  <thead>\n",
              "    <tr style=\"text-align: right;\">\n",
              "      <th></th>\n",
              "      <th>A</th>\n",
              "      <th>B</th>\n",
              "      <th>C</th>\n",
              "      <th>D</th>\n",
              "    </tr>\n",
              "  </thead>\n",
              "  <tbody>\n",
              "    <tr>\n",
              "      <th>0</th>\n",
              "      <td>1.0</td>\n",
              "      <td>2.0</td>\n",
              "      <td>3.0</td>\n",
              "      <td>4.0</td>\n",
              "    </tr>\n",
              "    <tr>\n",
              "      <th>1</th>\n",
              "      <td>5.0</td>\n",
              "      <td>6.0</td>\n",
              "      <td>NaN</td>\n",
              "      <td>8.0</td>\n",
              "    </tr>\n",
              "    <tr>\n",
              "      <th>2</th>\n",
              "      <td>10.0</td>\n",
              "      <td>11.0</td>\n",
              "      <td>12.0</td>\n",
              "      <td>NaN</td>\n",
              "    </tr>\n",
              "  </tbody>\n",
              "</table>\n",
              "</div>"
            ],
            "text/plain": [
              "      A     B     C    D\n",
              "0   1.0   2.0   3.0  4.0\n",
              "1   5.0   6.0   NaN  8.0\n",
              "2  10.0  11.0  12.0  NaN"
            ]
          },
          "metadata": {
            "tags": []
          },
          "execution_count": 5
        }
      ]
    },
    {
      "cell_type": "markdown",
      "metadata": {
        "id": "5kZgbdyq83cs"
      },
      "source": [
        "Verifica se possui valores faltantes com **isnull().sum()**"
      ]
    },
    {
      "cell_type": "code",
      "metadata": {
        "colab": {
          "base_uri": "https://localhost:8080/"
        },
        "id": "HA_iMSBZ3EWK",
        "outputId": "0c6f05ca-dd1f-43a5-8e17-fcb852f9cd3e"
      },
      "source": [
        "df.isnull().sum()"
      ],
      "execution_count": null,
      "outputs": [
        {
          "output_type": "execute_result",
          "data": {
            "text/plain": [
              "A    0\n",
              "B    0\n",
              "C    1\n",
              "D    1\n",
              "dtype: int64"
            ]
          },
          "metadata": {
            "tags": []
          },
          "execution_count": 6
        }
      ]
    },
    {
      "cell_type": "markdown",
      "metadata": {
        "id": "lgkiYARF3GwG"
      },
      "source": [
        "Apaga linhas onde possui valores faltantes com o método **dropna**"
      ]
    },
    {
      "cell_type": "code",
      "metadata": {
        "id": "tJLE_wV23H59"
      },
      "source": [
        "# drop rows with missing values:\n",
        "\n",
        "df.dropna(axis=0)"
      ],
      "execution_count": null,
      "outputs": []
    },
    {
      "cell_type": "markdown",
      "metadata": {
        "id": "vbI0rBS83LiV"
      },
      "source": [
        "Apaga colunas onde possui valores faltantes com o método **dropna**"
      ]
    },
    {
      "cell_type": "code",
      "metadata": {
        "id": "SnPPRENF3L99"
      },
      "source": [
        "# drop columns with missing values:\n",
        "\n",
        "df.dropna(axis=1)"
      ],
      "execution_count": null,
      "outputs": []
    },
    {
      "cell_type": "markdown",
      "metadata": {
        "id": "iuEdzrc93P3D"
      },
      "source": [
        "Utiliza o **SimpleImputer** com a stratégia de adicionar valores da média no lugar dos valores faltantes com o **strategy='mean'**"
      ]
    },
    {
      "cell_type": "code",
      "metadata": {
        "id": "mM5Mt6mR3QQW"
      },
      "source": [
        "from sklearn.impute import SimpleImputer\n",
        "\n",
        "\n",
        "imputer = SimpleImputer(missing_values=np.nan, strategy='mean')\n",
        "X = df.values\n",
        "X = imputer.fit_transform(df.values)\n",
        "X"
      ],
      "execution_count": null,
      "outputs": []
    },
    {
      "cell_type": "markdown",
      "metadata": {
        "id": "lPnhBv-K3TZw"
      },
      "source": [
        "**Scikit-Learn Pipelines**"
      ]
    },
    {
      "cell_type": "markdown",
      "metadata": {
        "id": "-obVBTfYFtTb"
      },
      "source": [
        "Utilizando o **StandardScaler** para a normalização e o classificador **K-Nearest Neighbors** "
      ]
    },
    {
      "cell_type": "code",
      "metadata": {
        "id": "QdLd-km03Zeh"
      },
      "source": [
        "from sklearn.pipeline import make_pipeline\n",
        "\n",
        "\n",
        "pipe = make_pipeline(StandardScaler(),\n",
        "                     KNeighborsClassifier(n_neighbors=3))"
      ],
      "execution_count": null,
      "outputs": []
    },
    {
      "cell_type": "code",
      "metadata": {
        "id": "E3Ev5l1m3gme",
        "colab": {
          "base_uri": "https://localhost:8080/"
        },
        "outputId": "304f276e-adf6-4d56-90a9-68c350adcd47"
      },
      "source": [
        "pipe"
      ],
      "execution_count": null,
      "outputs": [
        {
          "output_type": "execute_result",
          "data": {
            "text/plain": [
              "Pipeline(memory=None,\n",
              "         steps=[('standardscaler',\n",
              "                 StandardScaler(copy=True, with_mean=True, with_std=True)),\n",
              "                ('kneighborsclassifier',\n",
              "                 KNeighborsClassifier(algorithm='auto', leaf_size=30,\n",
              "                                      metric='minkowski', metric_params=None,\n",
              "                                      n_jobs=None, n_neighbors=5, p=2,\n",
              "                                      weights='uniform'))],\n",
              "         verbose=False)"
            ]
          },
          "metadata": {
            "tags": []
          },
          "execution_count": 110
        }
      ]
    },
    {
      "cell_type": "markdown",
      "metadata": {
        "id": "hgA3vIZCG7kJ"
      },
      "source": [
        "Utilizando o **predict** para retornar uma matriz de previsões para cada instância de dados no conjunto de testes."
      ]
    },
    {
      "cell_type": "code",
      "metadata": {
        "id": "S-MjlivW3eC6"
      },
      "source": [
        "pipe.fit(X_train, y_train)\n",
        "pipe.predict(X_test)"
      ],
      "execution_count": null,
      "outputs": []
    },
    {
      "cell_type": "markdown",
      "metadata": {
        "id": "BA27MWoZ3kEu"
      },
      "source": [
        "**Intro Model Selection -- Pipelines and Grid Search**"
      ]
    },
    {
      "cell_type": "code",
      "metadata": {
        "id": "VA1Ms1O-3kgn",
        "colab": {
          "base_uri": "https://localhost:8080/"
        },
        "outputId": "a86d97ef-f75b-452f-99ad-b86c92954561"
      },
      "source": [
        "from sklearn.model_selection import GridSearchCV\n",
        "from mlxtend.evaluate import PredefinedHoldoutSplit\n",
        "from sklearn.pipeline import make_pipeline\n",
        "from sklearn.datasets import load_iris\n",
        "\n",
        "iris = load_iris()\n",
        "X, y = iris.data, iris.target\n",
        "\n",
        "X_train_valid, X_test, y_train_valid, y_test = train_test_split(X, y,\n",
        "                                                                test_size=0.2, shuffle=True,\n",
        "                                                                random_state=123, stratify=y)\n",
        "\n",
        "train_ind, valid_ind = train_test_split(np.arange(X_train_valid.shape[0]),\n",
        "                                        test_size=0.2, shuffle=True,\n",
        "                                        random_state=123, stratify=y_train_valid)\n",
        "\n",
        "\n",
        "pipe = make_pipeline(StandardScaler(),\n",
        "                     KNeighborsClassifier())\n",
        "\n",
        "params = {'kneighborsclassifier__n_neighbors': [1, 3, 5],\n",
        "          'kneighborsclassifier__p': [1, 2]}\n",
        "\n",
        "split = PredefinedHoldoutSplit(valid_indices=valid_ind)\n",
        "\n",
        "grid = GridSearchCV(pipe,\n",
        "                    param_grid=params,\n",
        "                    cv=split)\n",
        "\n",
        "grid.fit(X_train_valid, y_train_valid)"
      ],
      "execution_count": null,
      "outputs": [
        {
          "output_type": "execute_result",
          "data": {
            "text/plain": [
              "GridSearchCV(cv=<mlxtend.evaluate.holdout.PredefinedHoldoutSplit object at 0x7f70549e7e50>,\n",
              "             error_score=nan,\n",
              "             estimator=Pipeline(memory=None,\n",
              "                                steps=[('standardscaler',\n",
              "                                        StandardScaler(copy=True,\n",
              "                                                       with_mean=True,\n",
              "                                                       with_std=True)),\n",
              "                                       ('kneighborsclassifier',\n",
              "                                        KNeighborsClassifier(algorithm='auto',\n",
              "                                                             leaf_size=30,\n",
              "                                                             metric='minkowski',\n",
              "                                                             metric_params=None,\n",
              "                                                             n_jobs=None,\n",
              "                                                             n_neighbors=5, p=2,\n",
              "                                                             weights='uniform'))],\n",
              "                                verbose=False),\n",
              "             iid='deprecated', n_jobs=None,\n",
              "             param_grid={'kneighborsclassifier__n_neighbors': [1, 3, 5],\n",
              "                         'kneighborsclassifier__p': [1, 2]},\n",
              "             pre_dispatch='2*n_jobs', refit=True, return_train_score=False,\n",
              "             scoring=None, verbose=0)"
            ]
          },
          "metadata": {
            "tags": []
          },
          "execution_count": 107
        }
      ]
    },
    {
      "cell_type": "markdown",
      "metadata": {
        "id": "Z321_SmgHbtW"
      },
      "source": [
        "Acessando as informações do grid com **cv_results_**"
      ]
    },
    {
      "cell_type": "code",
      "metadata": {
        "id": "Qa1DxTrN3t0B",
        "colab": {
          "base_uri": "https://localhost:8080/"
        },
        "outputId": "c6326394-cabc-4da8-d921-90f021744521"
      },
      "source": [
        "grid.cv_results_"
      ],
      "execution_count": null,
      "outputs": [
        {
          "output_type": "execute_result",
          "data": {
            "text/plain": [
              "{'mean_fit_time': array([0.00137496, 0.00098276, 0.00139666, 0.00107074, 0.00095201,\n",
              "        0.0009141 ]),\n",
              " 'mean_score_time': array([0.00183702, 0.00212502, 0.00172353, 0.00167036, 0.00163078,\n",
              "        0.00163746]),\n",
              " 'mean_test_score': array([0.875     , 0.91666667, 0.91666667, 0.91666667, 0.95833333,\n",
              "        0.95833333]),\n",
              " 'param_kneighborsclassifier__n_neighbors': masked_array(data=[1, 1, 3, 3, 5, 5],\n",
              "              mask=[False, False, False, False, False, False],\n",
              "        fill_value='?',\n",
              "             dtype=object),\n",
              " 'param_kneighborsclassifier__p': masked_array(data=[1, 2, 1, 2, 1, 2],\n",
              "              mask=[False, False, False, False, False, False],\n",
              "        fill_value='?',\n",
              "             dtype=object),\n",
              " 'params': [{'kneighborsclassifier__n_neighbors': 1,\n",
              "   'kneighborsclassifier__p': 1},\n",
              "  {'kneighborsclassifier__n_neighbors': 1, 'kneighborsclassifier__p': 2},\n",
              "  {'kneighborsclassifier__n_neighbors': 3, 'kneighborsclassifier__p': 1},\n",
              "  {'kneighborsclassifier__n_neighbors': 3, 'kneighborsclassifier__p': 2},\n",
              "  {'kneighborsclassifier__n_neighbors': 5, 'kneighborsclassifier__p': 1},\n",
              "  {'kneighborsclassifier__n_neighbors': 5, 'kneighborsclassifier__p': 2}],\n",
              " 'rank_test_score': array([6, 3, 3, 3, 1, 1], dtype=int32),\n",
              " 'split0_test_score': array([0.875     , 0.91666667, 0.91666667, 0.91666667, 0.95833333,\n",
              "        0.95833333]),\n",
              " 'std_fit_time': array([0., 0., 0., 0., 0., 0.]),\n",
              " 'std_score_time': array([0., 0., 0., 0., 0., 0.]),\n",
              " 'std_test_score': array([0., 0., 0., 0., 0., 0.])}"
            ]
          },
          "metadata": {
            "tags": []
          },
          "execution_count": 108
        }
      ]
    },
    {
      "cell_type": "markdown",
      "metadata": {
        "id": "xkwnmIiCHHRY"
      },
      "source": [
        "Mostrando o melhor score e o melhor parâmetro"
      ]
    },
    {
      "cell_type": "code",
      "metadata": {
        "id": "EoM82w_03yqc",
        "colab": {
          "base_uri": "https://localhost:8080/"
        },
        "outputId": "56af98b2-5c7d-404d-c169-bea816c35b51"
      },
      "source": [
        "print(grid.best_score_)\n",
        "print(grid.best_params_)"
      ],
      "execution_count": null,
      "outputs": [
        {
          "output_type": "stream",
          "text": [
            "0.9583333333333334\n",
            "{'kneighborsclassifier__n_neighbors': 5, 'kneighborsclassifier__p': 1}\n"
          ],
          "name": "stdout"
        }
      ]
    },
    {
      "cell_type": "markdown",
      "metadata": {
        "id": "mCom-3aXHODf"
      },
      "source": [
        "Porcentagem da melhor estimativa com **best_estimator_** e **score**"
      ]
    },
    {
      "cell_type": "code",
      "metadata": {
        "id": "OgRdhjsv32up",
        "colab": {
          "base_uri": "https://localhost:8080/"
        },
        "outputId": "864fdbaf-5d34-4df8-988a-0865ede6c05e"
      },
      "source": [
        "clf = grid.best_estimator_\n",
        "# clf.fit(X_train, y_train)\n",
        "print('Test accuracy: %.2f%%' % (clf.score(X_test, y_test)*100))"
      ],
      "execution_count": null,
      "outputs": [
        {
          "output_type": "stream",
          "text": [
            "Test accuracy: 90.00%\n"
          ],
          "name": "stdout"
        }
      ]
    },
    {
      "cell_type": "markdown",
      "metadata": {
        "id": "2lqrMFql36SJ"
      },
      "source": [
        "**Classificação da base de dados \"breast_cancer\"**"
      ]
    },
    {
      "cell_type": "markdown",
      "metadata": {
        "id": "izaFfSOPFHDl"
      },
      "source": [
        "Seguindo as etapas anteriores feitas com o Iris database"
      ]
    },
    {
      "cell_type": "code",
      "metadata": {
        "id": "1TuxoxoY4BtK",
        "colab": {
          "base_uri": "https://localhost:8080/",
          "height": 257
        },
        "outputId": "a1d30a11-fbfb-4a85-8128-edd484761e05"
      },
      "source": [
        "from sklearn.model_selection import GridSearchCV\n",
        "from mlxtend.evaluate import PredefinedHoldoutSplit\n",
        "from sklearn.pipeline import make_pipeline\n",
        "from sklearn.datasets import load_breast_cancer\n",
        "from sklearn.model_selection import train_test_split\n",
        "from sklearn.preprocessing import StandardScaler\n",
        "from sklearn.neighbors import KNeighborsClassifier\n",
        "from mlxtend.plotting import plot_decision_regions\n",
        "\n",
        "import pandas as pd\n",
        "\n",
        "data = load_breast_cancer()\n",
        "df= pd.DataFrame(data=data['data'], columns=data['feature_names'])\n",
        "df.head()"
      ],
      "execution_count": null,
      "outputs": [
        {
          "output_type": "execute_result",
          "data": {
            "text/html": [
              "<div>\n",
              "<style scoped>\n",
              "    .dataframe tbody tr th:only-of-type {\n",
              "        vertical-align: middle;\n",
              "    }\n",
              "\n",
              "    .dataframe tbody tr th {\n",
              "        vertical-align: top;\n",
              "    }\n",
              "\n",
              "    .dataframe thead th {\n",
              "        text-align: right;\n",
              "    }\n",
              "</style>\n",
              "<table border=\"1\" class=\"dataframe\">\n",
              "  <thead>\n",
              "    <tr style=\"text-align: right;\">\n",
              "      <th></th>\n",
              "      <th>mean radius</th>\n",
              "      <th>mean texture</th>\n",
              "      <th>mean perimeter</th>\n",
              "      <th>mean area</th>\n",
              "      <th>mean smoothness</th>\n",
              "      <th>mean compactness</th>\n",
              "      <th>mean concavity</th>\n",
              "      <th>mean concave points</th>\n",
              "      <th>mean symmetry</th>\n",
              "      <th>mean fractal dimension</th>\n",
              "      <th>radius error</th>\n",
              "      <th>texture error</th>\n",
              "      <th>perimeter error</th>\n",
              "      <th>area error</th>\n",
              "      <th>smoothness error</th>\n",
              "      <th>compactness error</th>\n",
              "      <th>concavity error</th>\n",
              "      <th>concave points error</th>\n",
              "      <th>symmetry error</th>\n",
              "      <th>fractal dimension error</th>\n",
              "      <th>worst radius</th>\n",
              "      <th>worst texture</th>\n",
              "      <th>worst perimeter</th>\n",
              "      <th>worst area</th>\n",
              "      <th>worst smoothness</th>\n",
              "      <th>worst compactness</th>\n",
              "      <th>worst concavity</th>\n",
              "      <th>worst concave points</th>\n",
              "      <th>worst symmetry</th>\n",
              "      <th>worst fractal dimension</th>\n",
              "    </tr>\n",
              "  </thead>\n",
              "  <tbody>\n",
              "    <tr>\n",
              "      <th>0</th>\n",
              "      <td>17.99</td>\n",
              "      <td>10.38</td>\n",
              "      <td>122.80</td>\n",
              "      <td>1001.0</td>\n",
              "      <td>0.11840</td>\n",
              "      <td>0.27760</td>\n",
              "      <td>0.3001</td>\n",
              "      <td>0.14710</td>\n",
              "      <td>0.2419</td>\n",
              "      <td>0.07871</td>\n",
              "      <td>1.0950</td>\n",
              "      <td>0.9053</td>\n",
              "      <td>8.589</td>\n",
              "      <td>153.40</td>\n",
              "      <td>0.006399</td>\n",
              "      <td>0.04904</td>\n",
              "      <td>0.05373</td>\n",
              "      <td>0.01587</td>\n",
              "      <td>0.03003</td>\n",
              "      <td>0.006193</td>\n",
              "      <td>25.38</td>\n",
              "      <td>17.33</td>\n",
              "      <td>184.60</td>\n",
              "      <td>2019.0</td>\n",
              "      <td>0.1622</td>\n",
              "      <td>0.6656</td>\n",
              "      <td>0.7119</td>\n",
              "      <td>0.2654</td>\n",
              "      <td>0.4601</td>\n",
              "      <td>0.11890</td>\n",
              "    </tr>\n",
              "    <tr>\n",
              "      <th>1</th>\n",
              "      <td>20.57</td>\n",
              "      <td>17.77</td>\n",
              "      <td>132.90</td>\n",
              "      <td>1326.0</td>\n",
              "      <td>0.08474</td>\n",
              "      <td>0.07864</td>\n",
              "      <td>0.0869</td>\n",
              "      <td>0.07017</td>\n",
              "      <td>0.1812</td>\n",
              "      <td>0.05667</td>\n",
              "      <td>0.5435</td>\n",
              "      <td>0.7339</td>\n",
              "      <td>3.398</td>\n",
              "      <td>74.08</td>\n",
              "      <td>0.005225</td>\n",
              "      <td>0.01308</td>\n",
              "      <td>0.01860</td>\n",
              "      <td>0.01340</td>\n",
              "      <td>0.01389</td>\n",
              "      <td>0.003532</td>\n",
              "      <td>24.99</td>\n",
              "      <td>23.41</td>\n",
              "      <td>158.80</td>\n",
              "      <td>1956.0</td>\n",
              "      <td>0.1238</td>\n",
              "      <td>0.1866</td>\n",
              "      <td>0.2416</td>\n",
              "      <td>0.1860</td>\n",
              "      <td>0.2750</td>\n",
              "      <td>0.08902</td>\n",
              "    </tr>\n",
              "    <tr>\n",
              "      <th>2</th>\n",
              "      <td>19.69</td>\n",
              "      <td>21.25</td>\n",
              "      <td>130.00</td>\n",
              "      <td>1203.0</td>\n",
              "      <td>0.10960</td>\n",
              "      <td>0.15990</td>\n",
              "      <td>0.1974</td>\n",
              "      <td>0.12790</td>\n",
              "      <td>0.2069</td>\n",
              "      <td>0.05999</td>\n",
              "      <td>0.7456</td>\n",
              "      <td>0.7869</td>\n",
              "      <td>4.585</td>\n",
              "      <td>94.03</td>\n",
              "      <td>0.006150</td>\n",
              "      <td>0.04006</td>\n",
              "      <td>0.03832</td>\n",
              "      <td>0.02058</td>\n",
              "      <td>0.02250</td>\n",
              "      <td>0.004571</td>\n",
              "      <td>23.57</td>\n",
              "      <td>25.53</td>\n",
              "      <td>152.50</td>\n",
              "      <td>1709.0</td>\n",
              "      <td>0.1444</td>\n",
              "      <td>0.4245</td>\n",
              "      <td>0.4504</td>\n",
              "      <td>0.2430</td>\n",
              "      <td>0.3613</td>\n",
              "      <td>0.08758</td>\n",
              "    </tr>\n",
              "    <tr>\n",
              "      <th>3</th>\n",
              "      <td>11.42</td>\n",
              "      <td>20.38</td>\n",
              "      <td>77.58</td>\n",
              "      <td>386.1</td>\n",
              "      <td>0.14250</td>\n",
              "      <td>0.28390</td>\n",
              "      <td>0.2414</td>\n",
              "      <td>0.10520</td>\n",
              "      <td>0.2597</td>\n",
              "      <td>0.09744</td>\n",
              "      <td>0.4956</td>\n",
              "      <td>1.1560</td>\n",
              "      <td>3.445</td>\n",
              "      <td>27.23</td>\n",
              "      <td>0.009110</td>\n",
              "      <td>0.07458</td>\n",
              "      <td>0.05661</td>\n",
              "      <td>0.01867</td>\n",
              "      <td>0.05963</td>\n",
              "      <td>0.009208</td>\n",
              "      <td>14.91</td>\n",
              "      <td>26.50</td>\n",
              "      <td>98.87</td>\n",
              "      <td>567.7</td>\n",
              "      <td>0.2098</td>\n",
              "      <td>0.8663</td>\n",
              "      <td>0.6869</td>\n",
              "      <td>0.2575</td>\n",
              "      <td>0.6638</td>\n",
              "      <td>0.17300</td>\n",
              "    </tr>\n",
              "    <tr>\n",
              "      <th>4</th>\n",
              "      <td>20.29</td>\n",
              "      <td>14.34</td>\n",
              "      <td>135.10</td>\n",
              "      <td>1297.0</td>\n",
              "      <td>0.10030</td>\n",
              "      <td>0.13280</td>\n",
              "      <td>0.1980</td>\n",
              "      <td>0.10430</td>\n",
              "      <td>0.1809</td>\n",
              "      <td>0.05883</td>\n",
              "      <td>0.7572</td>\n",
              "      <td>0.7813</td>\n",
              "      <td>5.438</td>\n",
              "      <td>94.44</td>\n",
              "      <td>0.011490</td>\n",
              "      <td>0.02461</td>\n",
              "      <td>0.05688</td>\n",
              "      <td>0.01885</td>\n",
              "      <td>0.01756</td>\n",
              "      <td>0.005115</td>\n",
              "      <td>22.54</td>\n",
              "      <td>16.67</td>\n",
              "      <td>152.20</td>\n",
              "      <td>1575.0</td>\n",
              "      <td>0.1374</td>\n",
              "      <td>0.2050</td>\n",
              "      <td>0.4000</td>\n",
              "      <td>0.1625</td>\n",
              "      <td>0.2364</td>\n",
              "      <td>0.07678</td>\n",
              "    </tr>\n",
              "  </tbody>\n",
              "</table>\n",
              "</div>"
            ],
            "text/plain": [
              "   mean radius  mean texture  ...  worst symmetry  worst fractal dimension\n",
              "0        17.99         10.38  ...          0.4601                  0.11890\n",
              "1        20.57         17.77  ...          0.2750                  0.08902\n",
              "2        19.69         21.25  ...          0.3613                  0.08758\n",
              "3        11.42         20.38  ...          0.6638                  0.17300\n",
              "4        20.29         14.34  ...          0.2364                  0.07678\n",
              "\n",
              "[5 rows x 30 columns]"
            ]
          },
          "metadata": {
            "tags": []
          },
          "execution_count": 86
        }
      ]
    },
    {
      "cell_type": "code",
      "metadata": {
        "colab": {
          "base_uri": "https://localhost:8080/"
        },
        "id": "encBOggYvbfW",
        "outputId": "e25210b9-db82-473d-d8a1-ef3afce0dc77"
      },
      "source": [
        "df.shape"
      ],
      "execution_count": null,
      "outputs": [
        {
          "output_type": "execute_result",
          "data": {
            "text/plain": [
              "(569, 30)"
            ]
          },
          "metadata": {
            "tags": []
          },
          "execution_count": 8
        }
      ]
    },
    {
      "cell_type": "code",
      "metadata": {
        "colab": {
          "base_uri": "https://localhost:8080/"
        },
        "id": "0987fMwTDc82",
        "outputId": "2d64bbef-2483-4fde-bad6-0f8dc23dc122"
      },
      "source": [
        "df.isnull().sum()"
      ],
      "execution_count": null,
      "outputs": [
        {
          "output_type": "execute_result",
          "data": {
            "text/plain": [
              "mean radius                0\n",
              "mean texture               0\n",
              "mean perimeter             0\n",
              "mean area                  0\n",
              "mean smoothness            0\n",
              "mean compactness           0\n",
              "mean concavity             0\n",
              "mean concave points        0\n",
              "mean symmetry              0\n",
              "mean fractal dimension     0\n",
              "radius error               0\n",
              "texture error              0\n",
              "perimeter error            0\n",
              "area error                 0\n",
              "smoothness error           0\n",
              "compactness error          0\n",
              "concavity error            0\n",
              "concave points error       0\n",
              "symmetry error             0\n",
              "fractal dimension error    0\n",
              "worst radius               0\n",
              "worst texture              0\n",
              "worst perimeter            0\n",
              "worst area                 0\n",
              "worst smoothness           0\n",
              "worst compactness          0\n",
              "worst concavity            0\n",
              "worst concave points       0\n",
              "worst symmetry             0\n",
              "worst fractal dimension    0\n",
              "dtype: int64"
            ]
          },
          "metadata": {
            "tags": []
          },
          "execution_count": 84
        }
      ]
    },
    {
      "cell_type": "code",
      "metadata": {
        "id": "RO7ojcB_DQUM"
      },
      "source": [
        "df_targets = pd.Series(data=data['target'], name='benign')\n",
        "df_targets.unique()\n",
        "\n",
        "X = df.iloc[:, 1:30].values\n",
        "y = df_targets.values\n"
      ],
      "execution_count": null,
      "outputs": []
    },
    {
      "cell_type": "code",
      "metadata": {
        "colab": {
          "base_uri": "https://localhost:8080/"
        },
        "id": "VR_-9ljb3dyW",
        "outputId": "cc5a1365-eaac-449b-ae37-4e0b1c53dcc2"
      },
      "source": [
        "X_train_valid, X_test, y_train_valid, y_test = train_test_split(X, y,\n",
        "                                                               test_size=0.2, shuffle=True,\n",
        "                                                               random_state=123, stratify=y)\n",
        "\n",
        "train_ind, valid_ind = train_test_split(np.arange(X_train_valid.shape[0]),\n",
        "                                        test_size=0.2, shuffle=True,\n",
        "                                        random_state=123, stratify=y_train_valid)\n",
        "\n",
        "\n",
        "pipe = make_pipeline(StandardScaler(), KNeighborsClassifier())\n",
        "\n",
        "params = {'kneighborsclassifier__n_neighbors': [1, 3, 5],\n",
        "          'kneighborsclassifier__p': [1, 2]}\n",
        "\n",
        "split = PredefinedHoldoutSplit(valid_indices=valid_ind)\n",
        "\n",
        "grid = GridSearchCV(pipe,\n",
        "                    param_grid=params,\n",
        "                    cv=split)\n",
        "\n",
        "grid.fit(X_train_valid, y_train_valid)"
      ],
      "execution_count": null,
      "outputs": [
        {
          "output_type": "execute_result",
          "data": {
            "text/plain": [
              "GridSearchCV(cv=<mlxtend.evaluate.holdout.PredefinedHoldoutSplit object at 0x7f70548b2050>,\n",
              "             error_score=nan,\n",
              "             estimator=Pipeline(memory=None,\n",
              "                                steps=[('standardscaler',\n",
              "                                        StandardScaler(copy=True,\n",
              "                                                       with_mean=True,\n",
              "                                                       with_std=True)),\n",
              "                                       ('kneighborsclassifier',\n",
              "                                        KNeighborsClassifier(algorithm='auto',\n",
              "                                                             leaf_size=30,\n",
              "                                                             metric='minkowski',\n",
              "                                                             metric_params=None,\n",
              "                                                             n_jobs=None,\n",
              "                                                             n_neighbors=5, p=2,\n",
              "                                                             weights='uniform'))],\n",
              "                                verbose=False),\n",
              "             iid='deprecated', n_jobs=None,\n",
              "             param_grid={'kneighborsclassifier__n_neighbors': [1, 3, 5],\n",
              "                         'kneighborsclassifier__p': [1, 2]},\n",
              "             pre_dispatch='2*n_jobs', refit=True, return_train_score=False,\n",
              "             scoring=None, verbose=0)"
            ]
          },
          "metadata": {
            "tags": []
          },
          "execution_count": 89
        }
      ]
    },
    {
      "cell_type": "code",
      "metadata": {
        "colab": {
          "base_uri": "https://localhost:8080/"
        },
        "id": "D4Fz2r7o9qL4",
        "outputId": "2abeb7d5-5dda-43f5-fd10-28be0471b2a8"
      },
      "source": [
        "grid.cv_results_"
      ],
      "execution_count": null,
      "outputs": [
        {
          "output_type": "execute_result",
          "data": {
            "text/plain": [
              "{'mean_fit_time': array([0.0050106 , 0.0030899 , 0.00307536, 0.00294638, 0.00314665,\n",
              "        0.00374246]),\n",
              " 'mean_score_time': array([0.00691032, 0.00563526, 0.00606394, 0.0056951 , 0.00897145,\n",
              "        0.00689101]),\n",
              " 'mean_test_score': array([0.93406593, 0.95604396, 0.94505495, 0.97802198, 0.94505495,\n",
              "        0.95604396]),\n",
              " 'param_kneighborsclassifier__n_neighbors': masked_array(data=[1, 1, 3, 3, 5, 5],\n",
              "              mask=[False, False, False, False, False, False],\n",
              "        fill_value='?',\n",
              "             dtype=object),\n",
              " 'param_kneighborsclassifier__p': masked_array(data=[1, 2, 1, 2, 1, 2],\n",
              "              mask=[False, False, False, False, False, False],\n",
              "        fill_value='?',\n",
              "             dtype=object),\n",
              " 'params': [{'kneighborsclassifier__n_neighbors': 1,\n",
              "   'kneighborsclassifier__p': 1},\n",
              "  {'kneighborsclassifier__n_neighbors': 1, 'kneighborsclassifier__p': 2},\n",
              "  {'kneighborsclassifier__n_neighbors': 3, 'kneighborsclassifier__p': 1},\n",
              "  {'kneighborsclassifier__n_neighbors': 3, 'kneighborsclassifier__p': 2},\n",
              "  {'kneighborsclassifier__n_neighbors': 5, 'kneighborsclassifier__p': 1},\n",
              "  {'kneighborsclassifier__n_neighbors': 5, 'kneighborsclassifier__p': 2}],\n",
              " 'rank_test_score': array([6, 2, 4, 1, 4, 2], dtype=int32),\n",
              " 'split0_test_score': array([0.93406593, 0.95604396, 0.94505495, 0.97802198, 0.94505495,\n",
              "        0.95604396]),\n",
              " 'std_fit_time': array([0., 0., 0., 0., 0., 0.]),\n",
              " 'std_score_time': array([0., 0., 0., 0., 0., 0.]),\n",
              " 'std_test_score': array([0., 0., 0., 0., 0., 0.])}"
            ]
          },
          "metadata": {
            "tags": []
          },
          "execution_count": 54
        }
      ]
    },
    {
      "cell_type": "code",
      "metadata": {
        "colab": {
          "base_uri": "https://localhost:8080/"
        },
        "id": "BEVU-aNr9sso",
        "outputId": "4b8ddfff-0923-47d2-ba6d-f5a30ccf5622"
      },
      "source": [
        "print(grid.best_score_)\n",
        "print(grid.best_params_)"
      ],
      "execution_count": null,
      "outputs": [
        {
          "output_type": "stream",
          "text": [
            "0.967032967032967\n",
            "{'kneighborsclassifier__n_neighbors': 1, 'kneighborsclassifier__p': 2}\n"
          ],
          "name": "stdout"
        }
      ]
    },
    {
      "cell_type": "code",
      "metadata": {
        "colab": {
          "base_uri": "https://localhost:8080/"
        },
        "id": "lmLE2Dqx9yds",
        "outputId": "5920a05e-a03e-4a8c-c090-04bedafac9a0"
      },
      "source": [
        "clf = grid.best_estimator_\n",
        "# clf.fit(X_train, y_train)\n",
        "print('Test accuracy: %.2f%%' % (clf.score(X_test, y_test)*100))"
      ],
      "execution_count": null,
      "outputs": [
        {
          "output_type": "stream",
          "text": [
            "Test accuracy: 95.61%\n"
          ],
          "name": "stdout"
        }
      ]
    },
    {
      "cell_type": "markdown",
      "metadata": {
        "id": "fKHsbf7tEVnI"
      },
      "source": [
        "**Pipeline de pré-processamento de dados para realizar a classificação da base de dados \"breast_cancer\"**"
      ]
    },
    {
      "cell_type": "code",
      "metadata": {
        "id": "UkLvPMxNEQcn"
      },
      "source": [
        "# from sklearn.model_selection import GridSearchCV\n",
        "# from mlxtend.evaluate import PredefinedHoldoutSplit\n",
        "# from sklearn.pipeline import make_pipeline\n",
        "# from sklearn.datasets import load_breast_cancer\n",
        "# from sklearn.model_selection import train_test_split\n",
        "# from sklearn.preprocessing import StandardScaler\n",
        "# from sklearn.neighbors import KNeighborsClassifier\n",
        "# from mlxtend.plotting import plot_decision_regions\n",
        "\n",
        "# import pandas as pd\n",
        "\n",
        "\n",
        "# data = load_breast_cancer()\n",
        "\n",
        "# df= pd.DataFrame(data=data['data'], columns=data['feature_names'])\n",
        "# df.head()\n",
        "\n",
        "# df_targets = pd.Series(data=data['target'], name='benign')\n",
        "# df_targets.unique()\n",
        "\n",
        "# X = df.iloc[:, 1:30].values\n",
        "# y = df_targets.values\n",
        "\n",
        "# X_train_valid, X_test, y_train_valid, y_test = train_test_split(X, y,\n",
        "#                                                                test_size=0.2, shuffle=True,\n",
        "#                                                                random_state=123, stratify=y)\n",
        "\n",
        "# train_ind, valid_ind = train_test_split(np.arange(X_train_valid.shape[0]),\n",
        "#                                         test_size=0.2, shuffle=True,\n",
        "#                                         random_state=123, stratify=y_train_valid)\n",
        "\n",
        "\n",
        "# pipe = make_pipeline(StandardScaler(), KNeighborsClassifier())\n",
        "\n",
        "# params = {'kneighborsclassifier__n_neighbors': [1, 3, 5],\n",
        "#           'kneighborsclassifier__p': [1, 2]}\n",
        "\n",
        "# split = PredefinedHoldoutSplit(valid_indices=valid_ind)\n",
        "\n",
        "# grid = GridSearchCV(pipe,\n",
        "#                     param_grid=params,\n",
        "#                     cv=split)\n",
        "\n",
        "# grid.fit(X_train_valid, y_train_valid)\n",
        "# grid.cv_results_\n",
        "# print(grid.best_score_)\n",
        "# print(grid.best_params_)\n",
        "# clf = grid.best_estimator_\n",
        "# print('Test accuracy: %.2f%%' % (clf.score(X_test, y_test)*100))"
      ],
      "execution_count": null,
      "outputs": []
    }
  ]
}