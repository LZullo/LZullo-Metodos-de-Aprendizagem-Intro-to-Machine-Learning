{
  "nbformat": 4,
  "nbformat_minor": 0,
  "metadata": {
    "colab": {
      "name": "L11_intro to model selection (prática).ipynb",
      "provenance": []
    },
    "kernelspec": {
      "name": "python3",
      "display_name": "Python 3"
    },
    "language_info": {
      "name": "python"
    }
  },
  "cells": [
    {
      "cell_type": "markdown",
      "metadata": {
        "id": "PjIFM9pX7fnI"
      },
      "source": [
        "# **Intro to model selection**\n",
        "\n",
        "1 - Utilizando os dados \"breast cancer\" faça\n",
        "\n",
        "1.1 - Criar um pipeline com todos os componentes necessários para a sua solução de ML (e.g. pre-processing, transformação de dados, normalização, redução de dimensionalidade, classificação)\n",
        "\n",
        "1.2 - Faça um gridsearch para achar os melhores parâmetros dos componentes da sua solução de ML\n",
        "\n",
        "1.3 - Estime, em cima da base de dados de teste, a acurácia final, usando a melhor combinação de hyperparâmetros possíveis\n"
      ]
    },
    {
      "cell_type": "code",
      "metadata": {
        "id": "nyBQWTNzuoUT"
      },
      "source": [
        "import numpy as np\n",
        "from sklearn.datasets import load_breast_cancer\n",
        "from sklearn.decomposition import PCA\n",
        "from sklearn.model_selection import GridSearchCV\n",
        "from sklearn.pipeline import Pipeline\n",
        "from sklearn.neighbors import KNeighborsClassifier\n",
        "from sklearn.preprocessing import StandardScaler\n",
        "from sklearn.model_selection import train_test_split"
      ],
      "execution_count": null,
      "outputs": []
    },
    {
      "cell_type": "code",
      "metadata": {
        "id": "A0acLnruvGFQ"
      },
      "source": [
        "import pandas as pd\n",
        "\n",
        "data = load_breast_cancer()\n",
        "df= pd.DataFrame(data=data['data'], columns=data['feature_names'])\n"
      ],
      "execution_count": null,
      "outputs": []
    },
    {
      "cell_type": "code",
      "metadata": {
        "colab": {
          "base_uri": "https://localhost:8080/"
        },
        "id": "r_ccyZRiBX6j",
        "outputId": "0d9bac13-a407-4c39-d090-67da31556e47"
      },
      "source": [
        "df.shape"
      ],
      "execution_count": null,
      "outputs": [
        {
          "output_type": "execute_result",
          "data": {
            "text/plain": [
              "(569, 30)"
            ]
          },
          "metadata": {},
          "execution_count": 60
        }
      ]
    },
    {
      "cell_type": "code",
      "metadata": {
        "colab": {
          "base_uri": "https://localhost:8080/"
        },
        "id": "HM4nQUpX-oXm",
        "outputId": "df6b5fac-d6de-4485-aa53-27c036ec7db0"
      },
      "source": [
        "df.info()"
      ],
      "execution_count": null,
      "outputs": [
        {
          "output_type": "stream",
          "text": [
            "<class 'pandas.core.frame.DataFrame'>\n",
            "RangeIndex: 569 entries, 0 to 568\n",
            "Data columns (total 30 columns):\n",
            " #   Column                   Non-Null Count  Dtype  \n",
            "---  ------                   --------------  -----  \n",
            " 0   mean radius              569 non-null    float64\n",
            " 1   mean texture             569 non-null    float64\n",
            " 2   mean perimeter           569 non-null    float64\n",
            " 3   mean area                569 non-null    float64\n",
            " 4   mean smoothness          569 non-null    float64\n",
            " 5   mean compactness         569 non-null    float64\n",
            " 6   mean concavity           569 non-null    float64\n",
            " 7   mean concave points      569 non-null    float64\n",
            " 8   mean symmetry            569 non-null    float64\n",
            " 9   mean fractal dimension   569 non-null    float64\n",
            " 10  radius error             569 non-null    float64\n",
            " 11  texture error            569 non-null    float64\n",
            " 12  perimeter error          569 non-null    float64\n",
            " 13  area error               569 non-null    float64\n",
            " 14  smoothness error         569 non-null    float64\n",
            " 15  compactness error        569 non-null    float64\n",
            " 16  concavity error          569 non-null    float64\n",
            " 17  concave points error     569 non-null    float64\n",
            " 18  symmetry error           569 non-null    float64\n",
            " 19  fractal dimension error  569 non-null    float64\n",
            " 20  worst radius             569 non-null    float64\n",
            " 21  worst texture            569 non-null    float64\n",
            " 22  worst perimeter          569 non-null    float64\n",
            " 23  worst area               569 non-null    float64\n",
            " 24  worst smoothness         569 non-null    float64\n",
            " 25  worst compactness        569 non-null    float64\n",
            " 26  worst concavity          569 non-null    float64\n",
            " 27  worst concave points     569 non-null    float64\n",
            " 28  worst symmetry           569 non-null    float64\n",
            " 29  worst fractal dimension  569 non-null    float64\n",
            "dtypes: float64(30)\n",
            "memory usage: 133.5 KB\n"
          ],
          "name": "stdout"
        }
      ]
    },
    {
      "cell_type": "code",
      "metadata": {
        "id": "aFRWKp1svPIm"
      },
      "source": [
        "df_targets = pd.Series(data=data['target'], name='benign')\n",
        "df_targets.unique()\n",
        "\n",
        "X = df.iloc[:, 1:30].values\n",
        "y = df_targets.values"
      ],
      "execution_count": null,
      "outputs": []
    },
    {
      "cell_type": "markdown",
      "metadata": {
        "id": "z8ILskelzvjX"
      },
      "source": [
        "## Base de treinamento e base teste\n"
      ]
    },
    {
      "cell_type": "code",
      "metadata": {
        "id": "UmWmJ-fgvYq_"
      },
      "source": [
        "X_train, X_test, y_train, y_test = train_test_split(X, y,test_size=0.2, shuffle=True,random_state=1, stratify=y)"
      ],
      "execution_count": null,
      "outputs": []
    },
    {
      "cell_type": "markdown",
      "metadata": {
        "id": "GnRLV56o7Hya"
      },
      "source": [
        "## Pipeline"
      ]
    },
    {
      "cell_type": "code",
      "metadata": {
        "id": "ZXs1-bmmvony"
      },
      "source": [
        "pipe = Pipeline([\n",
        "        ('z-score', StandardScaler()),\n",
        "        ('reduce_dim', PCA()),\n",
        "        ('classify', KNeighborsClassifier(n_neighbors=2))])"
      ],
      "execution_count": null,
      "outputs": []
    },
    {
      "cell_type": "code",
      "metadata": {
        "colab": {
          "base_uri": "https://localhost:8080/"
        },
        "id": "144GD6v0vscm",
        "outputId": "27d1ed70-262b-4f6a-f73d-6abb9a0ff111"
      },
      "source": [
        "pipe.fit(X_train, y_train)\n"
      ],
      "execution_count": null,
      "outputs": [
        {
          "output_type": "execute_result",
          "data": {
            "text/plain": [
              "Pipeline(memory=None,\n",
              "         steps=[('z-score',\n",
              "                 StandardScaler(copy=True, with_mean=True, with_std=True)),\n",
              "                ('reduce_dim',\n",
              "                 PCA(copy=True, iterated_power='auto', n_components=None,\n",
              "                     random_state=None, svd_solver='auto', tol=0.0,\n",
              "                     whiten=False)),\n",
              "                ('classify',\n",
              "                 KNeighborsClassifier(algorithm='auto', leaf_size=30,\n",
              "                                      metric='minkowski', metric_params=None,\n",
              "                                      n_jobs=None, n_neighbors=2, p=2,\n",
              "                                      weights='uniform'))],\n",
              "         verbose=False)"
            ]
          },
          "metadata": {},
          "execution_count": 40
        }
      ]
    },
    {
      "cell_type": "code",
      "metadata": {
        "colab": {
          "base_uri": "https://localhost:8080/"
        },
        "id": "J8Wp6Ikvv8_n",
        "outputId": "d591fe65-c52a-4216-de06-7a8ffddebe55"
      },
      "source": [
        "from sklearn.metrics import accuracy_score\n",
        "\n",
        "# Resultado training data\n",
        "y_train_pred = pipe.predict(X_train)\n",
        "a_dt_train=accuracy_score(y_train, y_train_pred)\n",
        "\n",
        "# Resultado test data\n",
        "y_test_pred = pipe.predict(X_test)\n",
        "a_dt_test=accuracy_score(y_test, y_test_pred)\n",
        "\n",
        "print(\"Training data accuracy is \" +  repr(a_dt_train) + \" and test data accuracy is \" + repr(a_dt_test))\n"
      ],
      "execution_count": null,
      "outputs": [
        {
          "output_type": "stream",
          "text": [
            "Training data accuracy is 0.978021978021978 and test data accuracy is 0.9649122807017544\n"
          ],
          "name": "stdout"
        }
      ]
    },
    {
      "cell_type": "markdown",
      "metadata": {
        "id": "G-XLMfnK7OM-"
      },
      "source": [
        "## **Grid-search**"
      ]
    },
    {
      "cell_type": "code",
      "metadata": {
        "id": "aWxQsWhXwHch"
      },
      "source": [
        "param_grid = {\n",
        "    'reduce_dim__n_components': [1, 2, 3, 4,5,6,7,8,9,10],\n",
        "    'classify__n_neighbors': [10, 12, 14, 16, 18, 20, 22, 24, 26, 28]\n",
        "}\n",
        "\n",
        "grid = GridSearchCV(pipe, cv=2, n_jobs=1, param_grid=param_grid, scoring='accuracy')"
      ],
      "execution_count": null,
      "outputs": []
    },
    {
      "cell_type": "code",
      "metadata": {
        "colab": {
          "base_uri": "https://localhost:8080/"
        },
        "id": "RDwD46IawK5x",
        "outputId": "82bc681f-8bbb-43bb-9ffd-e89f55e4d51f"
      },
      "source": [
        "grid.fit(X_train, y_train)\n"
      ],
      "execution_count": null,
      "outputs": [
        {
          "output_type": "execute_result",
          "data": {
            "text/plain": [
              "GridSearchCV(cv=2, error_score=nan,\n",
              "             estimator=Pipeline(memory=None,\n",
              "                                steps=[('z-score',\n",
              "                                        StandardScaler(copy=True,\n",
              "                                                       with_mean=True,\n",
              "                                                       with_std=True)),\n",
              "                                       ('reduce_dim',\n",
              "                                        PCA(copy=True, iterated_power='auto',\n",
              "                                            n_components=None,\n",
              "                                            random_state=None,\n",
              "                                            svd_solver='auto', tol=0.0,\n",
              "                                            whiten=False)),\n",
              "                                       ('classify',\n",
              "                                        KNeighborsClassifier(algorithm='auto',\n",
              "                                                             leaf_size=30,\n",
              "                                                             metric='minkowski',\n",
              "                                                             metric_params=None,\n",
              "                                                             n_jobs=None,\n",
              "                                                             n_neighbors=2, p=2,\n",
              "                                                             weights='uniform'))],\n",
              "                                verbose=False),\n",
              "             iid='deprecated', n_jobs=1,\n",
              "             param_grid={'classify__n_neighbors': [10, 12, 14, 16, 18, 20, 22,\n",
              "                                                   24, 26, 28],\n",
              "                         'reduce_dim__n_components': [1, 2, 3, 4, 5, 6, 7, 8, 9,\n",
              "                                                      10]},\n",
              "             pre_dispatch='2*n_jobs', refit=True, return_train_score=False,\n",
              "             scoring='accuracy', verbose=0)"
            ]
          },
          "metadata": {},
          "execution_count": 47
        }
      ]
    },
    {
      "cell_type": "code",
      "metadata": {
        "colab": {
          "base_uri": "https://localhost:8080/"
        },
        "id": "NogDY77UwQGP",
        "outputId": "3a94ca74-3835-4156-baa1-1f84686ccbd1"
      },
      "source": [
        "print(grid.cv_results_)\n"
      ],
      "execution_count": null,
      "outputs": [
        {
          "output_type": "stream",
          "text": [
            "{'mean_fit_time': array([0.00342059, 0.0021162 , 0.00199592, 0.00209963, 0.00217104,\n",
            "       0.00211203, 0.00223255, 0.00204885, 0.00259125, 0.00214088,\n",
            "       0.00203645, 0.00198317, 0.00203836, 0.00205982, 0.00209248,\n",
            "       0.00208092, 0.00210679, 0.00209057, 0.00239527, 0.00238395,\n",
            "       0.00277412, 0.00222933, 0.00221443, 0.00267458, 0.002352  ,\n",
            "       0.00238681, 0.00250411, 0.00212526, 0.00206161, 0.00208509,\n",
            "       0.00201249, 0.00241303, 0.00229514, 0.00228655, 0.00238371,\n",
            "       0.00216591, 0.00211084, 0.00206792, 0.00211906, 0.00209987,\n",
            "       0.00206614, 0.00197732, 0.00220954, 0.00211966, 0.00202119,\n",
            "       0.00206518, 0.00248671, 0.00212979, 0.00211346, 0.00219285,\n",
            "       0.00248837, 0.00204146, 0.00203598, 0.00192249, 0.00201845,\n",
            "       0.00208616, 0.00207925, 0.00221443, 0.00222814, 0.0024029 ,\n",
            "       0.00220525, 0.00223565, 0.00229704, 0.00212181, 0.00218284,\n",
            "       0.00210989, 0.0021404 , 0.00225306, 0.00228477, 0.00214636,\n",
            "       0.00210047, 0.00209832, 0.0020684 , 0.00210631, 0.00206327,\n",
            "       0.002087  , 0.00221586, 0.00233984, 0.00230169, 0.00245881,\n",
            "       0.00219333, 0.00215459, 0.00220048, 0.00220239, 0.00213706,\n",
            "       0.00215065, 0.00225592, 0.00219905, 0.00216842, 0.00224173,\n",
            "       0.00223982, 0.00217414, 0.00213909, 0.00208199, 0.00222814,\n",
            "       0.00223696, 0.00223196, 0.00219512, 0.00228095, 0.00223768]), 'std_fit_time': array([1.28054619e-03, 5.00679016e-06, 2.44379044e-05, 4.99486923e-05,\n",
            "       4.83989716e-05, 4.13656235e-05, 2.13146210e-04, 3.13520432e-05,\n",
            "       4.57644463e-04, 3.18288803e-05, 1.46627426e-05, 3.38554382e-05,\n",
            "       2.80141830e-05, 4.89950180e-05, 1.39474869e-05, 1.78813934e-05,\n",
            "       8.46385956e-06, 3.46899033e-05, 1.72257423e-04, 2.45809555e-04,\n",
            "       6.66022301e-04, 3.63588333e-05, 8.48770142e-05, 2.93254852e-05,\n",
            "       1.78098679e-04, 1.26361847e-05, 1.52826309e-04, 3.40938568e-05,\n",
            "       2.45571136e-05, 1.84774399e-05, 1.83582306e-05, 3.60965729e-04,\n",
            "       1.33156776e-04, 7.97510147e-05, 1.50203705e-04, 7.42673874e-05,\n",
            "       6.75916672e-05, 1.94311142e-05, 3.88622284e-05, 2.84910202e-05,\n",
            "       5.29289246e-05, 1.32322311e-05, 1.46269798e-04, 2.11000443e-05,\n",
            "       1.65700912e-05, 3.81469727e-06, 3.41653824e-04, 1.57356262e-05,\n",
            "       2.99215317e-05, 1.17182732e-04, 3.96490097e-04, 9.17911530e-06,\n",
            "       6.63995743e-05, 3.89814377e-05, 2.78949738e-05, 1.31130219e-05,\n",
            "       1.45435333e-05, 1.08480453e-04, 6.61611557e-05, 3.58819962e-05,\n",
            "       3.77893448e-05, 4.36306000e-05, 4.99486923e-05, 4.20808792e-05,\n",
            "       1.49011612e-05, 4.94718552e-05, 3.93390656e-06, 4.43458557e-05,\n",
            "       2.24113464e-05, 2.27689743e-05, 8.15391541e-05, 9.53674316e-07,\n",
            "       2.53915787e-05, 6.31809235e-06, 2.90870667e-05, 4.13656235e-05,\n",
            "       8.15391541e-05, 9.05990601e-05, 2.13623047e-04, 2.29597092e-04,\n",
            "       4.97102737e-05, 3.40938568e-05, 5.68628311e-05, 2.41994858e-05,\n",
            "       4.61339951e-05, 1.96695328e-05, 6.69956207e-05, 1.13248825e-05,\n",
            "       1.64508820e-05, 4.16040421e-05, 6.71148300e-05, 4.14848328e-05,\n",
            "       6.48498535e-05, 3.93390656e-06, 1.37090683e-05, 9.47713852e-05,\n",
            "       4.61339951e-05, 1.35898590e-05, 8.10623169e-05, 8.94069672e-06]), 'mean_score_time': array([0.00809753, 0.00807953, 0.00799   , 0.00794315, 0.00800622,\n",
            "       0.00812531, 0.00824261, 0.00828934, 0.00921857, 0.00839818,\n",
            "       0.00780892, 0.00774276, 0.00880313, 0.00797057, 0.00800753,\n",
            "       0.00821757, 0.00831294, 0.00927174, 0.00879693, 0.00885201,\n",
            "       0.01586676, 0.00800574, 0.00888979, 0.01050699, 0.00970376,\n",
            "       0.01296866, 0.00909281, 0.00868165, 0.00853133, 0.0085963 ,\n",
            "       0.0079186 , 0.00890517, 0.00927246, 0.00956917, 0.00918972,\n",
            "       0.00837231, 0.00921941, 0.00844586, 0.00907159, 0.00868642,\n",
            "       0.00933754, 0.0080198 , 0.00822151, 0.00838447, 0.00849414,\n",
            "       0.0085597 , 0.00952744, 0.0085516 , 0.00858903, 0.01044357,\n",
            "       0.00791466, 0.00834537, 0.0081507 , 0.00839162, 0.00833094,\n",
            "       0.00851393, 0.0086726 , 0.00862753, 0.00885224, 0.01021862,\n",
            "       0.0090338 , 0.00930858, 0.01128483, 0.0085572 , 0.00860047,\n",
            "       0.00861931, 0.00941753, 0.0093323 , 0.00919545, 0.01350772,\n",
            "       0.00798941, 0.0085125 , 0.00854588, 0.00850511, 0.00870895,\n",
            "       0.00878572, 0.00999272, 0.00895476, 0.00899684, 0.01034415,\n",
            "       0.00881279, 0.0087285 , 0.00880504, 0.00889528, 0.00860679,\n",
            "       0.00877523, 0.0089308 , 0.00897527, 0.01241398, 0.00951636,\n",
            "       0.00833642, 0.00842273, 0.00861728, 0.00887096, 0.01320314,\n",
            "       0.00912821, 0.00897861, 0.0091188 , 0.00912321, 0.00914919]), 'std_score_time': array([2.85029411e-04, 3.45468521e-04, 1.17421150e-04, 1.43051147e-06,\n",
            "       6.18696213e-05, 7.86781311e-06, 1.74760818e-04, 1.43051147e-04,\n",
            "       1.88469887e-04, 5.20944595e-05, 1.50442123e-04, 1.00016594e-04,\n",
            "       8.93592834e-04, 1.88350677e-05, 5.14984131e-05, 6.43730164e-06,\n",
            "       4.64916229e-05, 2.44021416e-04, 3.16381454e-04, 7.43865967e-05,\n",
            "       4.68730927e-03, 1.20043755e-04, 8.71300697e-04, 5.42759895e-04,\n",
            "       3.18408012e-04, 2.82204151e-03, 2.77280807e-04, 3.55124474e-04,\n",
            "       4.98294830e-05, 2.13384628e-05, 6.91413879e-06, 1.06287003e-03,\n",
            "       1.52707100e-04, 1.80721283e-04, 7.74502754e-04, 1.19209290e-06,\n",
            "       8.44001770e-04, 5.84125519e-06, 4.76121902e-04, 1.02400780e-04,\n",
            "       1.50287151e-03, 7.30752945e-05, 6.21080399e-05, 3.57627869e-06,\n",
            "       2.54392624e-04, 1.10626221e-04, 8.50200653e-04, 7.20024109e-05,\n",
            "       4.72068787e-05, 8.10265541e-04, 2.03847885e-05, 2.43186951e-05,\n",
            "       8.71419907e-05, 2.24113464e-05, 1.87158585e-05, 5.48362732e-05,\n",
            "       9.07182693e-05, 4.32729721e-05, 1.35898590e-05, 1.24216080e-04,\n",
            "       4.44650650e-05, 2.95639038e-05, 2.73013115e-03, 4.35113907e-05,\n",
            "       1.10626221e-04, 3.83853912e-05, 2.59399414e-04, 4.11272049e-05,\n",
            "       1.46508217e-04, 4.09686565e-03, 7.62939453e-06, 1.33991241e-04,\n",
            "       1.01089478e-04, 7.84397125e-05, 7.82012939e-05, 9.29832458e-05,\n",
            "       1.16944313e-04, 1.22785568e-04, 1.91926956e-05, 5.81383705e-04,\n",
            "       4.92930412e-04, 1.69038773e-04, 6.74724579e-05, 3.42130661e-05,\n",
            "       1.29938126e-05, 8.44001770e-05, 1.13368034e-04, 4.45842743e-05,\n",
            "       3.34191322e-03, 4.34041023e-04, 1.36971474e-04, 3.89814377e-05,\n",
            "       1.61290169e-04, 2.04443932e-04, 4.44912910e-03, 2.50339508e-06,\n",
            "       2.14576721e-06, 3.24249268e-05, 2.44379044e-05, 1.77621841e-05]), 'param_classify__n_neighbors': masked_array(data=[10, 10, 10, 10, 10, 10, 10, 10, 10, 10, 12, 12, 12, 12,\n",
            "                   12, 12, 12, 12, 12, 12, 14, 14, 14, 14, 14, 14, 14, 14,\n",
            "                   14, 14, 16, 16, 16, 16, 16, 16, 16, 16, 16, 16, 18, 18,\n",
            "                   18, 18, 18, 18, 18, 18, 18, 18, 20, 20, 20, 20, 20, 20,\n",
            "                   20, 20, 20, 20, 22, 22, 22, 22, 22, 22, 22, 22, 22, 22,\n",
            "                   24, 24, 24, 24, 24, 24, 24, 24, 24, 24, 26, 26, 26, 26,\n",
            "                   26, 26, 26, 26, 26, 26, 28, 28, 28, 28, 28, 28, 28, 28,\n",
            "                   28, 28],\n",
            "             mask=[False, False, False, False, False, False, False, False,\n",
            "                   False, False, False, False, False, False, False, False,\n",
            "                   False, False, False, False, False, False, False, False,\n",
            "                   False, False, False, False, False, False, False, False,\n",
            "                   False, False, False, False, False, False, False, False,\n",
            "                   False, False, False, False, False, False, False, False,\n",
            "                   False, False, False, False, False, False, False, False,\n",
            "                   False, False, False, False, False, False, False, False,\n",
            "                   False, False, False, False, False, False, False, False,\n",
            "                   False, False, False, False, False, False, False, False,\n",
            "                   False, False, False, False, False, False, False, False,\n",
            "                   False, False, False, False, False, False, False, False,\n",
            "                   False, False, False, False],\n",
            "       fill_value='?',\n",
            "            dtype=object), 'param_reduce_dim__n_components': masked_array(data=[1, 2, 3, 4, 5, 6, 7, 8, 9, 10, 1, 2, 3, 4, 5, 6, 7, 8,\n",
            "                   9, 10, 1, 2, 3, 4, 5, 6, 7, 8, 9, 10, 1, 2, 3, 4, 5, 6,\n",
            "                   7, 8, 9, 10, 1, 2, 3, 4, 5, 6, 7, 8, 9, 10, 1, 2, 3, 4,\n",
            "                   5, 6, 7, 8, 9, 10, 1, 2, 3, 4, 5, 6, 7, 8, 9, 10, 1, 2,\n",
            "                   3, 4, 5, 6, 7, 8, 9, 10, 1, 2, 3, 4, 5, 6, 7, 8, 9, 10,\n",
            "                   1, 2, 3, 4, 5, 6, 7, 8, 9, 10],\n",
            "             mask=[False, False, False, False, False, False, False, False,\n",
            "                   False, False, False, False, False, False, False, False,\n",
            "                   False, False, False, False, False, False, False, False,\n",
            "                   False, False, False, False, False, False, False, False,\n",
            "                   False, False, False, False, False, False, False, False,\n",
            "                   False, False, False, False, False, False, False, False,\n",
            "                   False, False, False, False, False, False, False, False,\n",
            "                   False, False, False, False, False, False, False, False,\n",
            "                   False, False, False, False, False, False, False, False,\n",
            "                   False, False, False, False, False, False, False, False,\n",
            "                   False, False, False, False, False, False, False, False,\n",
            "                   False, False, False, False, False, False, False, False,\n",
            "                   False, False, False, False],\n",
            "       fill_value='?',\n",
            "            dtype=object), 'params': [{'classify__n_neighbors': 10, 'reduce_dim__n_components': 1}, {'classify__n_neighbors': 10, 'reduce_dim__n_components': 2}, {'classify__n_neighbors': 10, 'reduce_dim__n_components': 3}, {'classify__n_neighbors': 10, 'reduce_dim__n_components': 4}, {'classify__n_neighbors': 10, 'reduce_dim__n_components': 5}, {'classify__n_neighbors': 10, 'reduce_dim__n_components': 6}, {'classify__n_neighbors': 10, 'reduce_dim__n_components': 7}, {'classify__n_neighbors': 10, 'reduce_dim__n_components': 8}, {'classify__n_neighbors': 10, 'reduce_dim__n_components': 9}, {'classify__n_neighbors': 10, 'reduce_dim__n_components': 10}, {'classify__n_neighbors': 12, 'reduce_dim__n_components': 1}, {'classify__n_neighbors': 12, 'reduce_dim__n_components': 2}, {'classify__n_neighbors': 12, 'reduce_dim__n_components': 3}, {'classify__n_neighbors': 12, 'reduce_dim__n_components': 4}, {'classify__n_neighbors': 12, 'reduce_dim__n_components': 5}, {'classify__n_neighbors': 12, 'reduce_dim__n_components': 6}, {'classify__n_neighbors': 12, 'reduce_dim__n_components': 7}, {'classify__n_neighbors': 12, 'reduce_dim__n_components': 8}, {'classify__n_neighbors': 12, 'reduce_dim__n_components': 9}, {'classify__n_neighbors': 12, 'reduce_dim__n_components': 10}, {'classify__n_neighbors': 14, 'reduce_dim__n_components': 1}, {'classify__n_neighbors': 14, 'reduce_dim__n_components': 2}, {'classify__n_neighbors': 14, 'reduce_dim__n_components': 3}, {'classify__n_neighbors': 14, 'reduce_dim__n_components': 4}, {'classify__n_neighbors': 14, 'reduce_dim__n_components': 5}, {'classify__n_neighbors': 14, 'reduce_dim__n_components': 6}, {'classify__n_neighbors': 14, 'reduce_dim__n_components': 7}, {'classify__n_neighbors': 14, 'reduce_dim__n_components': 8}, {'classify__n_neighbors': 14, 'reduce_dim__n_components': 9}, {'classify__n_neighbors': 14, 'reduce_dim__n_components': 10}, {'classify__n_neighbors': 16, 'reduce_dim__n_components': 1}, {'classify__n_neighbors': 16, 'reduce_dim__n_components': 2}, {'classify__n_neighbors': 16, 'reduce_dim__n_components': 3}, {'classify__n_neighbors': 16, 'reduce_dim__n_components': 4}, {'classify__n_neighbors': 16, 'reduce_dim__n_components': 5}, {'classify__n_neighbors': 16, 'reduce_dim__n_components': 6}, {'classify__n_neighbors': 16, 'reduce_dim__n_components': 7}, {'classify__n_neighbors': 16, 'reduce_dim__n_components': 8}, {'classify__n_neighbors': 16, 'reduce_dim__n_components': 9}, {'classify__n_neighbors': 16, 'reduce_dim__n_components': 10}, {'classify__n_neighbors': 18, 'reduce_dim__n_components': 1}, {'classify__n_neighbors': 18, 'reduce_dim__n_components': 2}, {'classify__n_neighbors': 18, 'reduce_dim__n_components': 3}, {'classify__n_neighbors': 18, 'reduce_dim__n_components': 4}, {'classify__n_neighbors': 18, 'reduce_dim__n_components': 5}, {'classify__n_neighbors': 18, 'reduce_dim__n_components': 6}, {'classify__n_neighbors': 18, 'reduce_dim__n_components': 7}, {'classify__n_neighbors': 18, 'reduce_dim__n_components': 8}, {'classify__n_neighbors': 18, 'reduce_dim__n_components': 9}, {'classify__n_neighbors': 18, 'reduce_dim__n_components': 10}, {'classify__n_neighbors': 20, 'reduce_dim__n_components': 1}, {'classify__n_neighbors': 20, 'reduce_dim__n_components': 2}, {'classify__n_neighbors': 20, 'reduce_dim__n_components': 3}, {'classify__n_neighbors': 20, 'reduce_dim__n_components': 4}, {'classify__n_neighbors': 20, 'reduce_dim__n_components': 5}, {'classify__n_neighbors': 20, 'reduce_dim__n_components': 6}, {'classify__n_neighbors': 20, 'reduce_dim__n_components': 7}, {'classify__n_neighbors': 20, 'reduce_dim__n_components': 8}, {'classify__n_neighbors': 20, 'reduce_dim__n_components': 9}, {'classify__n_neighbors': 20, 'reduce_dim__n_components': 10}, {'classify__n_neighbors': 22, 'reduce_dim__n_components': 1}, {'classify__n_neighbors': 22, 'reduce_dim__n_components': 2}, {'classify__n_neighbors': 22, 'reduce_dim__n_components': 3}, {'classify__n_neighbors': 22, 'reduce_dim__n_components': 4}, {'classify__n_neighbors': 22, 'reduce_dim__n_components': 5}, {'classify__n_neighbors': 22, 'reduce_dim__n_components': 6}, {'classify__n_neighbors': 22, 'reduce_dim__n_components': 7}, {'classify__n_neighbors': 22, 'reduce_dim__n_components': 8}, {'classify__n_neighbors': 22, 'reduce_dim__n_components': 9}, {'classify__n_neighbors': 22, 'reduce_dim__n_components': 10}, {'classify__n_neighbors': 24, 'reduce_dim__n_components': 1}, {'classify__n_neighbors': 24, 'reduce_dim__n_components': 2}, {'classify__n_neighbors': 24, 'reduce_dim__n_components': 3}, {'classify__n_neighbors': 24, 'reduce_dim__n_components': 4}, {'classify__n_neighbors': 24, 'reduce_dim__n_components': 5}, {'classify__n_neighbors': 24, 'reduce_dim__n_components': 6}, {'classify__n_neighbors': 24, 'reduce_dim__n_components': 7}, {'classify__n_neighbors': 24, 'reduce_dim__n_components': 8}, {'classify__n_neighbors': 24, 'reduce_dim__n_components': 9}, {'classify__n_neighbors': 24, 'reduce_dim__n_components': 10}, {'classify__n_neighbors': 26, 'reduce_dim__n_components': 1}, {'classify__n_neighbors': 26, 'reduce_dim__n_components': 2}, {'classify__n_neighbors': 26, 'reduce_dim__n_components': 3}, {'classify__n_neighbors': 26, 'reduce_dim__n_components': 4}, {'classify__n_neighbors': 26, 'reduce_dim__n_components': 5}, {'classify__n_neighbors': 26, 'reduce_dim__n_components': 6}, {'classify__n_neighbors': 26, 'reduce_dim__n_components': 7}, {'classify__n_neighbors': 26, 'reduce_dim__n_components': 8}, {'classify__n_neighbors': 26, 'reduce_dim__n_components': 9}, {'classify__n_neighbors': 26, 'reduce_dim__n_components': 10}, {'classify__n_neighbors': 28, 'reduce_dim__n_components': 1}, {'classify__n_neighbors': 28, 'reduce_dim__n_components': 2}, {'classify__n_neighbors': 28, 'reduce_dim__n_components': 3}, {'classify__n_neighbors': 28, 'reduce_dim__n_components': 4}, {'classify__n_neighbors': 28, 'reduce_dim__n_components': 5}, {'classify__n_neighbors': 28, 'reduce_dim__n_components': 6}, {'classify__n_neighbors': 28, 'reduce_dim__n_components': 7}, {'classify__n_neighbors': 28, 'reduce_dim__n_components': 8}, {'classify__n_neighbors': 28, 'reduce_dim__n_components': 9}, {'classify__n_neighbors': 28, 'reduce_dim__n_components': 10}], 'split0_test_score': array([0.89912281, 0.94736842, 0.93859649, 0.93859649, 0.94298246,\n",
            "       0.95175439, 0.95175439, 0.96491228, 0.96491228, 0.96491228,\n",
            "       0.89912281, 0.93859649, 0.93421053, 0.93421053, 0.94736842,\n",
            "       0.95614035, 0.96052632, 0.95175439, 0.96052632, 0.95614035,\n",
            "       0.89912281, 0.93421053, 0.94298246, 0.93859649, 0.93859649,\n",
            "       0.94736842, 0.95614035, 0.94736842, 0.95175439, 0.94736842,\n",
            "       0.89912281, 0.92982456, 0.93859649, 0.94298246, 0.93859649,\n",
            "       0.93859649, 0.94298246, 0.94298246, 0.94298246, 0.93859649,\n",
            "       0.89912281, 0.92982456, 0.93421053, 0.93421053, 0.93859649,\n",
            "       0.93421053, 0.93859649, 0.93859649, 0.93859649, 0.93421053,\n",
            "       0.89912281, 0.92105263, 0.93421053, 0.93421053, 0.93421053,\n",
            "       0.93421053, 0.93859649, 0.93859649, 0.93421053, 0.93421053,\n",
            "       0.90350877, 0.92105263, 0.93421053, 0.93421053, 0.93421053,\n",
            "       0.94298246, 0.93859649, 0.94298246, 0.94298246, 0.93859649,\n",
            "       0.89912281, 0.91666667, 0.9254386 , 0.92982456, 0.93421053,\n",
            "       0.94298246, 0.93859649, 0.93859649, 0.94298246, 0.94298246,\n",
            "       0.89912281, 0.92982456, 0.91666667, 0.9254386 , 0.93859649,\n",
            "       0.93859649, 0.93859649, 0.93859649, 0.93859649, 0.94298246,\n",
            "       0.89912281, 0.92982456, 0.91666667, 0.9254386 , 0.92982456,\n",
            "       0.93859649, 0.93421053, 0.93421053, 0.93421053, 0.93859649]), 'split1_test_score': array([0.92511013, 0.94713656, 0.92070485, 0.94273128, 0.95154185,\n",
            "       0.94273128, 0.95594714, 0.95154185, 0.95594714, 0.95594714,\n",
            "       0.92951542, 0.94273128, 0.92951542, 0.94273128, 0.94713656,\n",
            "       0.93832599, 0.94273128, 0.94713656, 0.94273128, 0.95154185,\n",
            "       0.92951542, 0.94713656, 0.92951542, 0.93832599, 0.94713656,\n",
            "       0.9339207 , 0.93832599, 0.9339207 , 0.92951542, 0.93832599,\n",
            "       0.92951542, 0.93832599, 0.92951542, 0.9339207 , 0.93832599,\n",
            "       0.92951542, 0.92951542, 0.92951542, 0.92951542, 0.92511013,\n",
            "       0.92951542, 0.94273128, 0.92511013, 0.92951542, 0.93832599,\n",
            "       0.92951542, 0.92511013, 0.92951542, 0.9339207 , 0.92511013,\n",
            "       0.9339207 , 0.94713656, 0.92951542, 0.92951542, 0.9339207 ,\n",
            "       0.92951542, 0.92951542, 0.93832599, 0.9339207 , 0.93832599,\n",
            "       0.92951542, 0.94713656, 0.9339207 , 0.92951542, 0.9339207 ,\n",
            "       0.92951542, 0.92511013, 0.92951542, 0.9339207 , 0.92951542,\n",
            "       0.92951542, 0.94713656, 0.9339207 , 0.9339207 , 0.93832599,\n",
            "       0.92951542, 0.9339207 , 0.9339207 , 0.9339207 , 0.93832599,\n",
            "       0.92951542, 0.94273128, 0.9339207 , 0.93832599, 0.93832599,\n",
            "       0.9339207 , 0.93832599, 0.9339207 , 0.93832599, 0.9339207 ,\n",
            "       0.92951542, 0.94273128, 0.9339207 , 0.94713656, 0.93832599,\n",
            "       0.9339207 , 0.94273128, 0.93832599, 0.93832599, 0.9339207 ]), 'mean_test_score': array([0.91211647, 0.94725249, 0.92965067, 0.94066388, 0.94726215,\n",
            "       0.94724283, 0.95385076, 0.95822707, 0.96042971, 0.96042971,\n",
            "       0.91431911, 0.94066388, 0.93186297, 0.9384709 , 0.94725249,\n",
            "       0.94723317, 0.9516288 , 0.94944547, 0.9516288 , 0.9538411 ,\n",
            "       0.91431911, 0.94067355, 0.93624894, 0.93846124, 0.94286653,\n",
            "       0.94064456, 0.94723317, 0.94064456, 0.9406349 , 0.94284721,\n",
            "       0.91431911, 0.93407528, 0.93405595, 0.93845158, 0.93846124,\n",
            "       0.93405595, 0.93624894, 0.93624894, 0.93624894, 0.93185331,\n",
            "       0.91431911, 0.93627792, 0.92966033, 0.93186297, 0.93846124,\n",
            "       0.93186297, 0.93185331, 0.93405595, 0.9362586 , 0.92966033,\n",
            "       0.91652176, 0.9340946 , 0.93186297, 0.93186297, 0.93406562,\n",
            "       0.93186297, 0.93405595, 0.93846124, 0.93406562, 0.93626826,\n",
            "       0.9165121 , 0.9340946 , 0.93406562, 0.93186297, 0.93406562,\n",
            "       0.93624894, 0.93185331, 0.93624894, 0.93845158, 0.93405595,\n",
            "       0.91431911, 0.93190162, 0.92967965, 0.93187263, 0.93626826,\n",
            "       0.93624894, 0.9362586 , 0.9362586 , 0.93845158, 0.94065422,\n",
            "       0.91431911, 0.93627792, 0.92529369, 0.93188229, 0.93846124,\n",
            "       0.9362586 , 0.93846124, 0.9362586 , 0.93846124, 0.93845158,\n",
            "       0.91431911, 0.93627792, 0.92529369, 0.93628758, 0.93407528,\n",
            "       0.9362586 , 0.9384709 , 0.93626826, 0.93626826, 0.9362586 ]), 'std_test_score': array([0.01299366, 0.00011593, 0.00894582, 0.00206739, 0.0042797 ,\n",
            "       0.00451155, 0.00209638, 0.00668522, 0.00448257, 0.00448257,\n",
            "       0.01519631, 0.00206739, 0.00234755, 0.00426038, 0.00011593,\n",
            "       0.00890718, 0.00889752, 0.00230891, 0.00889752, 0.00229925,\n",
            "       0.01519631, 0.00646302, 0.00673352, 0.00013525, 0.00427004,\n",
            "       0.00672386, 0.00890718, 0.00672386, 0.01111948, 0.00452121,\n",
            "       0.01519631, 0.00425071, 0.00454054, 0.00453088, 0.00013525,\n",
            "       0.00454054, 0.00673352, 0.00673352, 0.00673352, 0.00674318,\n",
            "       0.01519631, 0.00645336, 0.0045502 , 0.00234755, 0.00013525,\n",
            "       0.00234755, 0.00674318, 0.00454054, 0.00233789, 0.0045502 ,\n",
            "       0.01739895, 0.01304197, 0.00234755, 0.00234755, 0.00014491,\n",
            "       0.00234755, 0.00454054, 0.00013525, 0.00014491, 0.00205773,\n",
            "       0.01300332, 0.01304197, 0.00014491, 0.00234755, 0.00014491,\n",
            "       0.00673352, 0.00674318, 0.00673352, 0.00453088, 0.00454054,\n",
            "       0.01519631, 0.01523495, 0.00424105, 0.00204807, 0.00205773,\n",
            "       0.00673352, 0.00233789, 0.00233789, 0.00453088, 0.00232823,\n",
            "       0.01519631, 0.00645336, 0.00862702, 0.0064437 , 0.00013525,\n",
            "       0.00233789, 0.00013525, 0.00233789, 0.00013525, 0.00453088,\n",
            "       0.01519631, 0.00645336, 0.00862702, 0.01084898, 0.00425071,\n",
            "       0.00233789, 0.00426038, 0.00205773, 0.00205773, 0.00233789]), 'rank_test_score': array([100,  10,  88,  18,   9,  12,   4,   3,   1,   1,  93,  18,  75,\n",
            "        24,  10,  13,   6,   8,   6,   5,  93,  17,  52,  26,  15,  21,\n",
            "        13,  21,  23,  16,  93,  61,  67,  33,  26,  67,  52,  52,  52,\n",
            "        82,  93,  38,  86,  75,  26,  75,  82,  67,  45,  86,  91,  59,\n",
            "        75,  75,  63,  75,  67,  26,  63,  41,  92,  59,  63,  75,  63,\n",
            "        52,  82,  52,  33,  67,  93,  72,  85,  74,  41,  52,  45,  45,\n",
            "        33,  20,  93,  38,  89,  73,  26,  45,  26,  45,  26,  33,  93,\n",
            "        38,  89,  37,  61,  45,  24,  41,  41,  45], dtype=int32)}\n"
          ],
          "name": "stdout"
        }
      ]
    },
    {
      "cell_type": "code",
      "metadata": {
        "colab": {
          "base_uri": "https://localhost:8080/"
        },
        "id": "MShS5DBjwUGa",
        "outputId": "ae21918c-c0b1-44d6-e2da-d3e68e36bae2"
      },
      "source": [
        "grid.cv_results_['mean_test_score']\n"
      ],
      "execution_count": null,
      "outputs": [
        {
          "output_type": "execute_result",
          "data": {
            "text/plain": [
              "array([0.91211647, 0.94725249, 0.92965067, 0.94066388, 0.94726215,\n",
              "       0.94724283, 0.95385076, 0.95822707, 0.96042971, 0.96042971,\n",
              "       0.91431911, 0.94066388, 0.93186297, 0.9384709 , 0.94725249,\n",
              "       0.94723317, 0.9516288 , 0.94944547, 0.9516288 , 0.9538411 ,\n",
              "       0.91431911, 0.94067355, 0.93624894, 0.93846124, 0.94286653,\n",
              "       0.94064456, 0.94723317, 0.94064456, 0.9406349 , 0.94284721,\n",
              "       0.91431911, 0.93407528, 0.93405595, 0.93845158, 0.93846124,\n",
              "       0.93405595, 0.93624894, 0.93624894, 0.93624894, 0.93185331,\n",
              "       0.91431911, 0.93627792, 0.92966033, 0.93186297, 0.93846124,\n",
              "       0.93186297, 0.93185331, 0.93405595, 0.9362586 , 0.92966033,\n",
              "       0.91652176, 0.9340946 , 0.93186297, 0.93186297, 0.93406562,\n",
              "       0.93186297, 0.93405595, 0.93846124, 0.93406562, 0.93626826,\n",
              "       0.9165121 , 0.9340946 , 0.93406562, 0.93186297, 0.93406562,\n",
              "       0.93624894, 0.93185331, 0.93624894, 0.93845158, 0.93405595,\n",
              "       0.91431911, 0.93190162, 0.92967965, 0.93187263, 0.93626826,\n",
              "       0.93624894, 0.9362586 , 0.9362586 , 0.93845158, 0.94065422,\n",
              "       0.91431911, 0.93627792, 0.92529369, 0.93188229, 0.93846124,\n",
              "       0.9362586 , 0.93846124, 0.9362586 , 0.93846124, 0.93845158,\n",
              "       0.91431911, 0.93627792, 0.92529369, 0.93628758, 0.93407528,\n",
              "       0.9362586 , 0.9384709 , 0.93626826, 0.93626826, 0.9362586 ])"
            ]
          },
          "metadata": {},
          "execution_count": 49
        }
      ]
    },
    {
      "cell_type": "code",
      "metadata": {
        "colab": {
          "base_uri": "https://localhost:8080/"
        },
        "id": "S4DxOcP8wVs0",
        "outputId": "601f681b-dfe1-461a-e795-70b7bb88b617"
      },
      "source": [
        "print(grid.best_score_)\n",
        "print(grid.best_params_)"
      ],
      "execution_count": null,
      "outputs": [
        {
          "output_type": "stream",
          "text": [
            "0.9604297086328155\n",
            "{'classify__n_neighbors': 10, 'reduce_dim__n_components': 9}\n"
          ],
          "name": "stdout"
        }
      ]
    },
    {
      "cell_type": "code",
      "metadata": {
        "id": "AqfkuweewbLh"
      },
      "source": [
        "clf = grid.best_estimator_\n"
      ],
      "execution_count": null,
      "outputs": []
    },
    {
      "cell_type": "code",
      "metadata": {
        "id": "Y-B5GVV-wc2i",
        "colab": {
          "base_uri": "https://localhost:8080/"
        },
        "outputId": "e0ebb6d4-d363-47a7-84a2-7f3887366652"
      },
      "source": [
        "\n",
        "y_test_pred = clf.predict(X_test)\n",
        "accuracy_score(y_test, y_test_pred)"
      ],
      "execution_count": null,
      "outputs": [
        {
          "output_type": "execute_result",
          "data": {
            "text/plain": [
              "0.9736842105263158"
            ]
          },
          "metadata": {},
          "execution_count": 52
        }
      ]
    },
    {
      "cell_type": "code",
      "metadata": {
        "colab": {
          "base_uri": "https://localhost:8080/"
        },
        "id": "cw4DLmT661gt",
        "outputId": "957c9be3-d62d-4b7d-f7ea-1b7f42cb7b92"
      },
      "source": [
        "y_train_pred = clf.predict(X_train)\n",
        "accuracy_score(y_train, y_train_pred)"
      ],
      "execution_count": null,
      "outputs": [
        {
          "output_type": "execute_result",
          "data": {
            "text/plain": [
              "0.978021978021978"
            ]
          },
          "metadata": {},
          "execution_count": 53
        }
      ]
    }
  ]
}