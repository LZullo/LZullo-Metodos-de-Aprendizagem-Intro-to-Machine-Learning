{
  "nbformat": 4,
  "nbformat_minor": 0,
  "metadata": {
    "colab": {
      "name": "L05c_nearest_centroid_classifier.ipynb",
      "provenance": []
    },
    "kernelspec": {
      "name": "python3",
      "display_name": "Python 3"
    },
    "language_info": {
      "name": "python"
    }
  },
  "cells": [
    {
      "cell_type": "markdown",
      "metadata": {
        "id": "IEtPx75hyhYp"
      },
      "source": [
        "##Prática nearest centroid classifier\n",
        "1 - Utilizando o arquivo L05c_nearest centroid scratch.ipynb crie seu próprio objeto Nearest Centroid (arquivo no github)\n",
        "\n",
        "\n",
        "1.1 - No arquivo tem 2 seções\n",
        "\n",
        "1.2 - A primeira usa o pacote sklearn, para vcs observarem como deverá ser a saída correta\n",
        "\n",
        "1.3 - A segunda seção \"Implementation from scratch\" contém um inicio de um classe python. Vcs deverão modificar essa classe para criar seu próprio classificador. Vejam que vcs devem implementar as funções fit() e predict()\n",
        "\n",
        "1.4 - Comentem o código e enviem na forma de compartilhamento de link\n",
        "\n",
        "   --- não esquecer de dar acesso de leitura para os que tiverem o link\n",
        "\n",
        "\n",
        "\n",
        "\n",
        "- Os slides e demais materiais podem ser baixados dá página do git em https://github.com/dalcimar/MA28CP-Intro-to-Machine-Learning"
      ]
    },
    {
      "cell_type": "markdown",
      "metadata": {
        "id": "BQD0IRvyk5j1"
      },
      "source": [
        "# **L05c - Nearest Centroid**\n",
        "### **Implementation from sklearn**\n"
      ]
    },
    {
      "cell_type": "code",
      "metadata": {
        "id": "CQnpJyTBjc1w"
      },
      "source": [
        "from sklearn.neighbors import NearestCentroid\n",
        "import numpy as np\n",
        "\n",
        "X_train = np.array([[-1, -1], [-2, -1], [-3, -2], [1, 1], [2, 1], [3, 2]])\n",
        "y_train = np.array([0, 0, 0, 1, 1, 1])\n",
        "\n",
        "X_test = np.array([[-1, -2], [0, -1], [-3, -3], [2, 2],  [1, 2]])\n",
        "y_test = np.array([0, 0, 0, 1, 1])"
      ],
      "execution_count": null,
      "outputs": []
    },
    {
      "cell_type": "code",
      "metadata": {
        "colab": {
          "base_uri": "https://localhost:8080/"
        },
        "id": "g5vUMq95kMaw",
        "outputId": "8e4fd916-8ade-4786-8319-bff8b2efb611"
      },
      "source": [
        "cn_model = NearestCentroid(metric='euclidean')\n",
        "cn_model.fit(X_train, y_train)\n",
        "\n",
        "cn_model.centroids_"
      ],
      "execution_count": null,
      "outputs": [
        {
          "output_type": "execute_result",
          "data": {
            "text/plain": [
              "array([[-2.        , -1.33333333],\n",
              "       [ 2.        ,  1.33333333]])"
            ]
          },
          "metadata": {
            "tags": []
          },
          "execution_count": 27
        }
      ]
    },
    {
      "cell_type": "code",
      "metadata": {
        "colab": {
          "base_uri": "https://localhost:8080/",
          "height": 282
        },
        "id": "TXKAyF1_kQ2p",
        "outputId": "a36392dd-67ab-405a-acf4-ea3064392dbd"
      },
      "source": [
        "import matplotlib.pyplot as plt\n",
        "\n",
        "plt.scatter(X_train[y_train==0, 0], X_train[y_train==0, 1], c='r')\n",
        "plt.scatter(X_train[y_train==1, 0], X_train[y_train==1, 1], c='g')\n",
        "\n",
        "plt.scatter(cn_model.centroids_[:,0], cn_model.centroids_[:,1], s=200, marker='*', c='k')"
      ],
      "execution_count": null,
      "outputs": [
        {
          "output_type": "execute_result",
          "data": {
            "text/plain": [
              "<matplotlib.collections.PathCollection at 0x7f6d247fe6d0>"
            ]
          },
          "metadata": {
            "tags": []
          },
          "execution_count": 28
        },
        {
          "output_type": "display_data",
          "data": {
            "image/png": "[encoded data removed]",
            "text/plain": [
              "<Figure size 432x288 with 1 Axes>"
            ]
          },
          "metadata": {
            "tags": [],
            "needs_background": "light"
          }
        }
      ]
    },
    {
      "cell_type": "code",
      "metadata": {
        "colab": {
          "base_uri": "https://localhost:8080/"
        },
        "id": "GlgOwP_OkUe3",
        "outputId": "31d2cc23-bafe-44ab-cd95-46379f3d8f2b"
      },
      "source": [
        "y_pred = cn_model.predict(X_test)\n",
        "print(y_pred)\n",
        "print(y_test)"
      ],
      "execution_count": null,
      "outputs": [
        {
          "output_type": "stream",
          "text": [
            "[0 0 0 1 1]\n",
            "[0 0 0 1 1]\n"
          ],
          "name": "stdout"
        }
      ]
    },
    {
      "cell_type": "code",
      "metadata": {
        "colab": {
          "base_uri": "https://localhost:8080/"
        },
        "id": "xe20fvXnkXYL",
        "outputId": "9567df3e-2c52-40f7-cb59-ede0bb65842f"
      },
      "source": [
        "from sklearn.metrics import accuracy_score\n",
        "\n",
        "accuracy_score(y_test, y_pred)"
      ],
      "execution_count": null,
      "outputs": [
        {
          "output_type": "execute_result",
          "data": {
            "text/plain": [
              "1.0"
            ]
          },
          "metadata": {
            "tags": []
          },
          "execution_count": 30
        }
      ]
    },
    {
      "cell_type": "code",
      "metadata": {
        "colab": {
          "base_uri": "https://localhost:8080/",
          "height": 282
        },
        "id": "fjBe2w62ns2T",
        "outputId": "839bdd95-6940-4948-92b2-b126ebe9d97b"
      },
      "source": [
        "\n",
        "import matplotlib.pyplot as plt\n",
        "\n",
        "plt.scatter(X_test[y_test==0, 0], X_test[y_test==0, 1], c='r')\n",
        "plt.scatter(X_test[y_test==1, 0], X_test[y_test==1, 1], c='g')\n",
        "\n",
        "plt.scatter(cn_model.centroids_[:,0], cn_model.centroids_[:,1], s=200, marker='*', c='k')"
      ],
      "execution_count": null,
      "outputs": [
        {
          "output_type": "execute_result",
          "data": {
            "text/plain": [
              "<matplotlib.collections.PathCollection at 0x7f6d24789190>"
            ]
          },
          "metadata": {
            "tags": []
          },
          "execution_count": 31
        },
        {
          "output_type": "display_data",
          "data": {
            "image/png": "[encoded data removed]",
            "text/plain": [
              "<Figure size 432x288 with 1 Axes>"
            ]
          },
          "metadata": {
            "tags": [],
            "needs_background": "light"
          }
        }
      ]
    },
    {
      "cell_type": "markdown",
      "metadata": {
        "id": "eulwOlEKkgor"
      },
      "source": [
        "# **Implementation from scratch** \n",
        "\n"
      ]
    },
    {
      "cell_type": "markdown",
      "metadata": {
        "id": "cWAUF3v5sKVt"
      },
      "source": [
        "######Função **Fit**\n",
        "* Armazena os rótulos, retorna a média e armazena em um array \n",
        "\n",
        "#####Função **Predict**\n",
        "* Calcula e armazena a menor distância Euclidiana em um array\n",
        "\n",
        "#####Função **Score**\n",
        "* Calcula o acerto do teste\n"
      ]
    },
    {
      "cell_type": "code",
      "metadata": {
        "id": "SRPLwgXxkoi-"
      },
      "source": [
        "from scipy.spatial import distance\n",
        "class NearestCentroidScratch():\n",
        "  def __init__(self, metric='eucledian'):\n",
        "    self.metric = metric\n",
        "    self.target_ = np.array([])\n",
        "    self.centroids_ = np.array([])\n",
        "  \n",
        "  def fit(self, X, y):\n",
        "    self.target_ = np.unique(y)\n",
        "    c = [np.mean(X[y==i], axis=0) for i in self.target_]\n",
        "    self.centroids_ = np.vstack((c))\n",
        "    #print(self.centroids_)\n",
        "\n",
        "  def predict(self, X): \n",
        "    self.predict_ = np.array([], dtype=int)   \n",
        "    for i in X:                                               \n",
        "      dist = []\n",
        "      [dist.append(distance.euclidean(i, self.centroids_[j,:])) for j in range(len(self.target_))] \n",
        "      self.predict_ = np.hstack((self.predict_, self.target_[dist.index(np.min(dist))])) \n",
        "      #print(self.predict_) \n",
        "    return self.predict_\n",
        "\n",
        "  def score(self, x,y):\n",
        "    x1 = np.sum(y)\n",
        "    x2 = np.sum(x)\n",
        "    self.score_ = x1/x2\n",
        "    return self.score_"
      ],
      "execution_count": null,
      "outputs": []
    },
    {
      "cell_type": "code",
      "metadata": {
        "id": "wGQgzweQksdh"
      },
      "source": [
        "import numpy as np\n",
        "\n",
        "X_train = np.array([[-1, -1], [-2, -1], [-3, -2], [1, 1], [2, 1], [3, 2]])\n",
        "y_train = np.array([1, 1, 1, 2, 2, 2])\n",
        "\n",
        "X_test = np.array([[-1, -2], [0, -1], [-3, -3], [2, 2],  [1, 2]])\n",
        "y_test = np.array([1, 1, 1, 2, 2])"
      ],
      "execution_count": null,
      "outputs": []
    },
    {
      "cell_type": "markdown",
      "metadata": {
        "id": "exA0NLklxAoB"
      },
      "source": [
        "* Chamando a função NearestCentroisScratch\n",
        "* Obtendo a média"
      ]
    },
    {
      "cell_type": "code",
      "metadata": {
        "colab": {
          "base_uri": "https://localhost:8080/"
        },
        "id": "B3Mt9PErkvBP",
        "outputId": "08b74b4a-eed5-4e2b-b41e-eba67f182939"
      },
      "source": [
        "clf = NearestCentroidScratch()\n",
        "clf.fit(X_train, y_train)\n",
        "\n",
        "clf.centroids_"
      ],
      "execution_count": null,
      "outputs": [
        {
          "output_type": "execute_result",
          "data": {
            "text/plain": [
              "array([[-2.        , -1.33333333],\n",
              "       [ 2.        ,  1.33333333]])"
            ]
          },
          "metadata": {
            "tags": []
          },
          "execution_count": 76
        }
      ]
    },
    {
      "cell_type": "markdown",
      "metadata": {
        "id": "rS3A98oXw7tp"
      },
      "source": [
        "######Plotando o gráfico"
      ]
    },
    {
      "cell_type": "code",
      "metadata": {
        "colab": {
          "base_uri": "https://localhost:8080/",
          "height": 282
        },
        "id": "80p5G90lldq9",
        "outputId": "66903170-9e23-4ace-9944-b350ca0d5635"
      },
      "source": [
        "import matplotlib.pyplot as plt\n",
        "\n",
        "plt.scatter(X_train[y_train==1, 0], X_train[y_train==1, 1], c='r')\n",
        "plt.scatter(X_train[y_train==2, 0], X_train[y_train==2, 1], c='g')\n",
        "\n",
        "plt.scatter(clf.centroids_[:,0], clf.centroids_ [:,1], s=200, marker='*', c='k')"
      ],
      "execution_count": null,
      "outputs": [
        {
          "output_type": "execute_result",
          "data": {
            "text/plain": [
              "<matplotlib.collections.PathCollection at 0x7f6d24360490>"
            ]
          },
          "metadata": {
            "tags": []
          },
          "execution_count": 77
        },
        {
          "output_type": "display_data",
          "data": {
            "image/png": "[encoded data removed]",
            "text/plain": [
              "<Figure size 432x288 with 1 Axes>"
            ]
          },
          "metadata": {
            "tags": [],
            "needs_background": "light"
          }
        }
      ]
    },
    {
      "cell_type": "markdown",
      "metadata": {
        "id": "mGj0x4fAxhMp"
      },
      "source": [
        "Calculando a predição com a função **predict**"
      ]
    },
    {
      "cell_type": "code",
      "metadata": {
        "colab": {
          "base_uri": "https://localhost:8080/"
        },
        "id": "ytAT0CwQlpTT",
        "outputId": "e4ff499a-1088-4117-df80-2abeedb5763a"
      },
      "source": [
        "y_pred = clf.predict(X_test)\n",
        "print(y_pred)\n",
        "print(y_test)"
      ],
      "execution_count": null,
      "outputs": [
        {
          "output_type": "stream",
          "text": [
            "[1 1 1 2 2]\n",
            "[1 1 1 2 2]\n"
          ],
          "name": "stdout"
        }
      ]
    },
    {
      "cell_type": "markdown",
      "metadata": {
        "id": "XDj8X0Cqw2TZ"
      },
      "source": [
        "Calculando o acerto com a função **score**"
      ]
    },
    {
      "cell_type": "code",
      "metadata": {
        "colab": {
          "base_uri": "https://localhost:8080/"
        },
        "id": "Qhj0NrNplvfT",
        "outputId": "d7b85cdd-1e4a-43f8-a504-bd178f5bfa1c"
      },
      "source": [
        "clf.score(y_test, y_pred)"
      ],
      "execution_count": null,
      "outputs": [
        {
          "output_type": "execute_result",
          "data": {
            "text/plain": [
              "1.0"
            ]
          },
          "metadata": {
            "tags": []
          },
          "execution_count": 79
        }
      ]
    }
  ]
}