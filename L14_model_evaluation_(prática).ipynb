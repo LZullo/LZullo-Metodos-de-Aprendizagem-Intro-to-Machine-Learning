{
  "nbformat": 4,
  "nbformat_minor": 0,
  "metadata": {
    "colab": {
      "name": "L14_model evaluation (prática).ipynb",
      "provenance": []
    },
    "kernelspec": {
      "name": "python3",
      "display_name": "Python 3"
    },
    "language_info": {
      "name": "python"
    }
  },
  "cells": [
    {
      "cell_type": "markdown",
      "metadata": {
        "id": "gK7NxPLWi5mn"
      },
      "source": [
        "## **L14_model evaluation (prática)**\n",
        "\n",
        "1 - Utilizando os dados \"diabetes\" faça\n",
        "\n",
        "1.1 - Criar um pipeline com um pré-processamento e classificador a sua escolha\n",
        "\n",
        "1.2 - Faça um gridsearch para achar os melhores hyperparâmetros do método\n",
        "\n",
        "1.3 - Estime, em cima da base de dados de teste, a acurácia final, dada a melhor combinação de hyperparâmetros possíveis\n",
        "\n",
        "1.4 - Calcule o erro (01 loss no caso de classificação)\n",
        "\n",
        "1.5 - Decomponha o erro em termos do seu bias e variância\n",
        "\n",
        "1.4 - Verifique a existência de overfitting e underfitting, justifique (olhar e analisar taxas de acerto do treino, teste, bias e variância). A argumentação de ter ou não overfitting e underfitting deve ser feita com comentários no código.\n",
        "\n",
        "1.5 - Compartilhar o link (no colab, botão superior direito, compartilhar, alterar opção para \"qualquer um com link pode visualizar\", copiar link, e colar o link aqui para verificação)"
      ]
    },
    {
      "cell_type": "code",
      "metadata": {
        "id": "i9CVpWUainiZ"
      },
      "source": [
        "import numpy as np\n",
        "\n",
        "from sklearn.tree import DecisionTreeClassifier\n",
        "from sklearn.tree import DecisionTreeRegressor\n",
        "from sklearn import datasets\n",
        "from sklearn.decomposition import PCA\n",
        "from sklearn.model_selection import GridSearchCV\n",
        "from sklearn.pipeline import Pipeline\n",
        "from sklearn.preprocessing import StandardScaler\n",
        "from sklearn.metrics import accuracy_score\n",
        "from sklearn.metrics import zero_one_loss\n",
        "from sklearn.metrics import mean_squared_error\n",
        "from sklearn.model_selection import train_test_split\n",
        "\n"
      ],
      "execution_count": null,
      "outputs": []
    },
    {
      "cell_type": "code",
      "metadata": {
        "colab": {
          "base_uri": "https://localhost:8080/"
        },
        "id": "sZRmkZvcjG3L",
        "outputId": "92401353-e776-41ff-9073-ee45c1470c45"
      },
      "source": [
        "pip install mlxtend --upgrade --no-deps"
      ],
      "execution_count": null,
      "outputs": [
        {
          "output_type": "stream",
          "name": "stdout",
          "text": [
            "Requirement already satisfied: mlxtend in /usr/local/lib/python3.7/dist-packages (0.14.0)\n",
            "Collecting mlxtend\n",
            "  Downloading mlxtend-0.19.0-py2.py3-none-any.whl (1.3 MB)\n",
            "\u001b[K     |████████████████████████████████| 1.3 MB 4.2 MB/s \n",
            "\u001b[?25hInstalling collected packages: mlxtend\n",
            "  Attempting uninstall: mlxtend\n",
            "    Found existing installation: mlxtend 0.14.0\n",
            "    Uninstalling mlxtend-0.14.0:\n",
            "      Successfully uninstalled mlxtend-0.14.0\n",
            "Successfully installed mlxtend-0.19.0\n"
          ]
        }
      ]
    },
    {
      "cell_type": "code",
      "metadata": {
        "id": "tygGpYqLjNyw"
      },
      "source": [
        "from mlxtend.evaluate import bias_variance_decomp\n",
        "\n",
        "diabetes = datasets.load_diabetes()\n",
        "X = diabetes.data\n",
        "y = diabetes.target"
      ],
      "execution_count": null,
      "outputs": []
    },
    {
      "cell_type": "code",
      "metadata": {
        "id": "zvBtV5MnjVEa"
      },
      "source": [
        "X_train, X_test, y_train, y_test =train_test_split(X, y, test_size=0.2, shuffle=True, random_state=1)"
      ],
      "execution_count": null,
      "outputs": []
    },
    {
      "cell_type": "markdown",
      "metadata": {
        "id": "XWZBIt3LjY6G"
      },
      "source": [
        "##Pipeline"
      ]
    },
    {
      "cell_type": "code",
      "metadata": {
        "colab": {
          "base_uri": "https://localhost:8080/"
        },
        "id": "jlwvKMktjXVv",
        "outputId": "4fee7e59-9b30-408f-aee9-366972379fa9"
      },
      "source": [
        "pipe = Pipeline([\n",
        "        ('normalizador', StandardScaler()),\n",
        "        ('redutor_dim', PCA()),\n",
        "        ('classificador', DecisionTreeClassifier())\n",
        "])\n",
        "\n",
        "pipe.fit(X_train,y_train)"
      ],
      "execution_count": null,
      "outputs": [
        {
          "output_type": "execute_result",
          "data": {
            "text/plain": [
              "Pipeline(memory=None,\n",
              "         steps=[('normalizador',\n",
              "                 StandardScaler(copy=True, with_mean=True, with_std=True)),\n",
              "                ('redutor_dim',\n",
              "                 PCA(copy=True, iterated_power='auto', n_components=None,\n",
              "                     random_state=None, svd_solver='auto', tol=0.0,\n",
              "                     whiten=False)),\n",
              "                ('classificador',\n",
              "                 DecisionTreeClassifier(ccp_alpha=0.0, class_weight=None,\n",
              "                                        criterion='gini', max_depth=None,\n",
              "                                        max_features=None, max_leaf_nodes=None,\n",
              "                                        min_impurity_decrease=0.0,\n",
              "                                        min_impurity_split=None,\n",
              "                                        min_samples_leaf=1, min_samples_split=2,\n",
              "                                        min_weight_fraction_leaf=0.0,\n",
              "                                        presort='deprecated', random_state=None,\n",
              "                                        splitter='best'))],\n",
              "         verbose=False)"
            ]
          },
          "metadata": {},
          "execution_count": 6
        }
      ]
    },
    {
      "cell_type": "markdown",
      "metadata": {
        "id": "P-kqHBkjjh63"
      },
      "source": [
        "##Grid-Search"
      ]
    },
    {
      "cell_type": "code",
      "metadata": {
        "id": "vqcCvSaGjcRd"
      },
      "source": [
        "params = {\n",
        "    'redutor_dim__n_components': [1, 2, 3, 4, 5, 6, 7],\n",
        "    'classificador__max_depth':[2,3,4,5,6,7,8,9],\n",
        "    'classificador__criterion':['gini','entropy'],\n",
        "   \n",
        "}\n",
        "\n",
        "grid = GridSearchCV(pipe, cv=2, param_grid= params, scoring='accuracy' )"
      ],
      "execution_count": null,
      "outputs": []
    },
    {
      "cell_type": "code",
      "metadata": {
        "colab": {
          "base_uri": "https://localhost:8080/"
        },
        "id": "beNV-R4Sjqtp",
        "outputId": "42345e24-5bc5-4fb0-e768-f63942ecdea3"
      },
      "source": [
        "grid.fit(X_train, y_train)"
      ],
      "execution_count": null,
      "outputs": [
        {
          "output_type": "stream",
          "name": "stderr",
          "text": [
            "/usr/local/lib/python3.7/dist-packages/sklearn/model_selection/_split.py:667: UserWarning: The least populated class in y has only 1 members, which is less than n_splits=2.\n",
            "  % (min_groups, self.n_splits)), UserWarning)\n"
          ]
        },
        {
          "output_type": "execute_result",
          "data": {
            "text/plain": [
              "GridSearchCV(cv=2, error_score=nan,\n",
              "             estimator=Pipeline(memory=None,\n",
              "                                steps=[('normalizador',\n",
              "                                        StandardScaler(copy=True,\n",
              "                                                       with_mean=True,\n",
              "                                                       with_std=True)),\n",
              "                                       ('redutor_dim',\n",
              "                                        PCA(copy=True, iterated_power='auto',\n",
              "                                            n_components=None,\n",
              "                                            random_state=None,\n",
              "                                            svd_solver='auto', tol=0.0,\n",
              "                                            whiten=False)),\n",
              "                                       ('classificador',\n",
              "                                        DecisionTreeClassifier(ccp_alpha=0.0,\n",
              "                                                               class_weight=None,\n",
              "                                                               criter...\n",
              "                                                               min_weight_fraction_leaf=0.0,\n",
              "                                                               presort='deprecated',\n",
              "                                                               random_state=None,\n",
              "                                                               splitter='best'))],\n",
              "                                verbose=False),\n",
              "             iid='deprecated', n_jobs=None,\n",
              "             param_grid={'classificador__criterion': ['gini', 'entropy'],\n",
              "                         'classificador__max_depth': [2, 3, 4, 5, 6, 7, 8, 9],\n",
              "                         'redutor_dim__n_components': [1, 2, 3, 4, 5, 6, 7]},\n",
              "             pre_dispatch='2*n_jobs', refit=True, return_train_score=False,\n",
              "             scoring='accuracy', verbose=0)"
            ]
          },
          "metadata": {},
          "execution_count": 8
        }
      ]
    },
    {
      "cell_type": "markdown",
      "metadata": {
        "id": "3nq4zZxyk15_"
      },
      "source": [
        "##Predict"
      ]
    },
    {
      "cell_type": "code",
      "metadata": {
        "colab": {
          "base_uri": "https://localhost:8080/"
        },
        "id": "A2DGqw9qjsxJ",
        "outputId": "5135abd2-41aa-4d3a-f5a2-ab5a136ba09d"
      },
      "source": [
        "y_test_pred = grid.predict(X_test)\n",
        "\n",
        "print(grid.best_params_,grid.best_score_)"
      ],
      "execution_count": null,
      "outputs": [
        {
          "output_type": "stream",
          "name": "stdout",
          "text": [
            "{'classificador__criterion': 'entropy', 'classificador__max_depth': 2, 'redutor_dim__n_components': 3} 0.019838212634822806\n"
          ]
        }
      ]
    },
    {
      "cell_type": "code",
      "metadata": {
        "colab": {
          "base_uri": "https://localhost:8080/"
        },
        "id": "ZmzBiUFyj1Bb",
        "outputId": "b2cbc3c0-022d-4886-b902-434f8cc5bf45"
      },
      "source": [
        "grid_r = grid.best_estimator_\n",
        "print(grid_r)"
      ],
      "execution_count": null,
      "outputs": [
        {
          "output_type": "stream",
          "name": "stdout",
          "text": [
            "Pipeline(memory=None,\n",
            "         steps=[('normalizador',\n",
            "                 StandardScaler(copy=True, with_mean=True, with_std=True)),\n",
            "                ('redutor_dim',\n",
            "                 PCA(copy=True, iterated_power='auto', n_components=3,\n",
            "                     random_state=None, svd_solver='auto', tol=0.0,\n",
            "                     whiten=False)),\n",
            "                ('classificador',\n",
            "                 DecisionTreeClassifier(ccp_alpha=0.0, class_weight=None,\n",
            "                                        criterion='entropy', max_depth=2,\n",
            "                                        max_features=None, max_leaf_nodes=None,\n",
            "                                        min_impurity_decrease=0.0,\n",
            "                                        min_impurity_split=None,\n",
            "                                        min_samples_leaf=1, min_samples_split=2,\n",
            "                                        min_weight_fraction_leaf=0.0,\n",
            "                                        presort='deprecated', random_state=None,\n",
            "                                        splitter='best'))],\n",
            "         verbose=False)\n"
          ]
        }
      ]
    },
    {
      "cell_type": "code",
      "metadata": {
        "colab": {
          "base_uri": "https://localhost:8080/"
        },
        "id": "_T9W5OMqj-t1",
        "outputId": "b425fff8-3393-45c1-9aea-666a7dc11336"
      },
      "source": [
        "accuracy_score(y_test, y_test_pred) #Resultado"
      ],
      "execution_count": null,
      "outputs": [
        {
          "output_type": "execute_result",
          "data": {
            "text/plain": [
              "0.011235955056179775"
            ]
          },
          "metadata": {},
          "execution_count": 12
        }
      ]
    },
    {
      "cell_type": "code",
      "metadata": {
        "colab": {
          "base_uri": "https://localhost:8080/"
        },
        "id": "FQKNtV65kMxh",
        "outputId": "2832b5b6-fb82-4146-bef4-696e99653a3d"
      },
      "source": [
        "zero_one_loss(y_test,y_test_pred, normalize=False)"
      ],
      "execution_count": null,
      "outputs": [
        {
          "output_type": "execute_result",
          "data": {
            "text/plain": [
              "88"
            ]
          },
          "metadata": {},
          "execution_count": 16
        }
      ]
    },
    {
      "cell_type": "code",
      "metadata": {
        "colab": {
          "base_uri": "https://localhost:8080/"
        },
        "id": "SRrhc0BwkWUd",
        "outputId": "47c5a963-d878-4d7b-f209-1f69a7ee4c20"
      },
      "source": [
        "mean_squared_error(y_test, y_test_pred) #Erro"
      ],
      "execution_count": null,
      "outputs": [
        {
          "output_type": "execute_result",
          "data": {
            "text/plain": [
              "8129.224719101124"
            ]
          },
          "metadata": {},
          "execution_count": 17
        }
      ]
    },
    {
      "cell_type": "code",
      "metadata": {
        "colab": {
          "base_uri": "https://localhost:8080/"
        },
        "id": "DtnZSfDhkag3",
        "outputId": "ea52c50b-b1c7-4ecd-9934-e22070e1c49d"
      },
      "source": [
        "avg_expected_loss, avg_bias, avg_var = bias_variance_decomp(\n",
        "    grid_r, X_train, y_train, X_test, y_test, \n",
        "    loss='mse', num_rounds=3,\n",
        "    random_seed=1)\n",
        "\n",
        "print('Avarage expected loss: %.3f' %avg_expected_loss)\n",
        "print('Avarage bias^2: %.3f' %avg_bias)\n",
        "print('Avarage variance: %.3f' %avg_var)"
      ],
      "execution_count": null,
      "outputs": [
        {
          "output_type": "stream",
          "name": "stdout",
          "text": [
            "Avarage expected loss: 7937.536\n",
            "Avarage bias^2: 5491.813\n",
            "Avarage variance: 2445.723\n"
          ]
        }
      ]
    },
    {
      "cell_type": "markdown",
      "metadata": {
        "id": "24kvvjuakiSh"
      },
      "source": [
        "Resultado: Por ter um alto bias, é um caso de underfiting"
      ]
    }
  ]
}